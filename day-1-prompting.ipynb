{
 "cells": [
  {
   "cell_type": "markdown",
   "id": "41819a59",
   "metadata": {
    "id": "jkxRSYjzA1oX",
    "papermill": {
     "duration": 0.015159,
     "end_time": "2025-03-31T08:26:07.946127",
     "exception": false,
     "start_time": "2025-03-31T08:26:07.930968",
     "status": "completed"
    },
    "tags": []
   },
   "source": [
    "##### Copyright 2025 Google LLC."
   ]
  },
  {
   "cell_type": "code",
   "execution_count": 1,
   "id": "30312509",
   "metadata": {
    "cellView": "form",
    "execution": {
     "iopub.execute_input": "2025-03-31T08:26:07.977603Z",
     "iopub.status.busy": "2025-03-31T08:26:07.976351Z",
     "iopub.status.idle": "2025-03-31T08:26:07.983613Z",
     "shell.execute_reply": "2025-03-31T08:26:07.982545Z"
    },
    "id": "5u5OZ2ShA3BA",
    "papermill": {
     "duration": 0.026114,
     "end_time": "2025-03-31T08:26:07.986047",
     "exception": false,
     "start_time": "2025-03-31T08:26:07.959933",
     "status": "completed"
    },
    "tags": []
   },
   "outputs": [],
   "source": [
    "# @title Licensed under the Apache License, Version 2.0 (the \"License\");\n",
    "# you may not use this file except in compliance with the License.\n",
    "# You may obtain a copy of the License at\n",
    "#\n",
    "# https://www.apache.org/licenses/LICENSE-2.0\n",
    "#\n",
    "# Unless required by applicable law or agreed to in writing, software\n",
    "# distributed under the License is distributed on an \"AS IS\" BASIS,\n",
    "# WITHOUT WARRANTIES OR CONDITIONS OF ANY KIND, either express or implied.\n",
    "# See the License for the specific language governing permissions and\n",
    "# limitations under the License."
   ]
  },
  {
   "cell_type": "markdown",
   "id": "9dee5061",
   "metadata": {
    "id": "csNPnkuCobmG",
    "papermill": {
     "duration": 0.013344,
     "end_time": "2025-03-31T08:26:08.013114",
     "exception": false,
     "start_time": "2025-03-31T08:26:07.999770",
     "status": "completed"
    },
    "tags": []
   },
   "source": [
    "# Day 1 - Prompting\n",
    "\n",
    "Welcome to the Kaggle 5-day Generative AI course!\n",
    "\n",
    "This notebook will show you how to get started with the Gemini API and walk you through some of the example prompts and techniques that you can also read about in the Prompting whitepaper. You don't need to read the whitepaper to use this notebook, but the papers will give you some theoretical context and background to complement this interactive notebook.\n",
    "\n",
    "\n",
    "## Before you begin\n",
    "\n",
    "In this notebook, you'll start exploring prompting using the Python SDK and AI Studio. For some inspiration, you might enjoy exploring some apps that have been built using the Gemini family of models. Here are a few that we like, and we think you will too.\n",
    "\n",
    "* [TextFX](https://textfx.withgoogle.com/) is a suite of AI-powered tools for rappers, made in collaboration with Lupe Fiasco,\n",
    "* [SQL Talk](https://sql-talk-r5gdynozbq-uc.a.run.app/) shows how you can talk directly to a database using the Gemini API,\n",
    "* [NotebookLM](https://notebooklm.google/) uses Gemini models to build your own personal AI research assistant.\n",
    "\n",
    "\n",
    "## For help\n",
    "\n",
    "**Common issues are covered in the [FAQ and troubleshooting guide](https://www.kaggle.com/code/markishere/day-0-troubleshooting-and-faqs).**\n",
    "\n",
    "## New for Gemini 2.0!\n",
    "\n",
    "This course material was first launched in November 2024. The AI and LLM space is moving incredibly fast, so we have made some updates to use the latest models and capabilities.\n",
    "\n",
    "* These codelabs have been updated to use the Gemini 2.0 family of models.\n",
    "* The Python SDK has been updated from `google-generativeai` to the new, unified [`google-genai`](https://pypi.org/project/google-genai) SDK.\n",
    "  * This new SDK works with both the developer Gemini API as well as Google Cloud Vertex AI, and switching is [as simple as changing some fields](https://pypi.org/project/google-genai/#:~:text=.Client%28%29-,API%20Selection,-By%20default%2C%20the).\n",
    "* New model capabilities have been added to the relevant codelabs, such as \"thinking mode\" in this lab.\n",
    "* Day 1 includes a new [Evaluation codelab](https://www.kaggle.com/code/markishere/day-1-evaluation-and-structured-output)."
   ]
  },
  {
   "attachments": {
    "d8299597-f771-4195-ac94-1d6f658ef2bd.png": {
     "image/png": "[encoded data removed]"
    },
    "ed25e346-2e15-4ab0-bc22-503eb1845e66.png": {
     "image/png": "[encoded data removed]"
    }
   },
   "cell_type": "markdown",
   "id": "5d409158",
   "metadata": {
    "id": "f00ea7c99e44",
    "papermill": {
     "duration": 0.013343,
     "end_time": "2025-03-31T08:26:08.039939",
     "exception": false,
     "start_time": "2025-03-31T08:26:08.026596",
     "status": "completed"
    },
    "tags": []
   },
   "source": [
    "## Get started with Kaggle notebooks\n",
    "\n",
    "If this is your first time using a Kaggle notebook, welcome! You can read about how to use Kaggle notebooks [in the docs](https://www.kaggle.com/docs/notebooks).\n",
    "\n",
    "First, you will need to phone verify your account at kaggle.com/settings.\n",
    "\n",
    "![](https://storage.googleapis.com/kaggle-media/Images/5dgai_0.png)"
   ]
  },
  {
   "cell_type": "markdown",
   "id": "88ca790f",
   "metadata": {
    "papermill": {
     "duration": 0.013403,
     "end_time": "2025-03-31T08:26:08.067237",
     "exception": false,
     "start_time": "2025-03-31T08:26:08.053834",
     "status": "completed"
    },
    "tags": []
   },
   "source": [
    "To run this notebook, as well as the others in this course, you will need to make a copy, or fork, the notebook. Look for the `Copy and Edit` button in the top-right, and **click it** to make an editable, private copy of the notebook. It should look like this one:\n",
    "\n",
    "![Copy and Edit button](https://storage.googleapis.com/kaggle-media/Images/5gdai_sc_1.png)\n",
    "\n",
    "Your copy will now have a ▶️ **Run** button next to each code cell that you can press to execute that cell. These notebooks are expected to be run in order from top-to-bottom, but you are encouraged to add new cells, run your own code and explore. If you get stuck, you can try the `Factory reset` option in the `Run` menu, or head back to the original notebook and make a fresh copy.\n",
    "\n",
    "![Run cell button](https://storage.googleapis.com/kaggle-media/Images/5gdai_sc_2.png)\n",
    "\n",
    "### Problems?\n",
    "\n",
    "If you have any problems, head over to the [Kaggle Discord](https://discord.com/invite/kaggle), find the [`#5dgai-q-and-a` channel](https://discord.com/channels/1101210829807956100/1303438695143178251) and ask for help."
   ]
  },
  {
   "cell_type": "markdown",
   "id": "05cd5cca",
   "metadata": {
    "id": "ExkOXcPxtTb5",
    "papermill": {
     "duration": 0.013415,
     "end_time": "2025-03-31T08:26:08.094267",
     "exception": false,
     "start_time": "2025-03-31T08:26:08.080852",
     "status": "completed"
    },
    "tags": []
   },
   "source": [
    "## Get started with the Gemini API\n",
    "\n",
    "All of the exercises in this notebook will use the [Gemini API](https://ai.google.dev/gemini-api/) by way of the [Python SDK](https://pypi.org/project/google-genai/). Each of these prompts can be accessed directly in [Google AI Studio](https://aistudio.google.com/) too, so if you would rather use a web interface and skip the code for this activity, look for the <img src=\"https://ai.google.dev/site-assets/images/marketing/home/icon-ais.png\" style=\"height: 24px\" height=24/> AI Studio link on each prompt."
   ]
  },
  {
   "cell_type": "markdown",
   "id": "bbf6442c",
   "metadata": {
    "papermill": {
     "duration": 0.014547,
     "end_time": "2025-03-31T08:26:08.122831",
     "exception": false,
     "start_time": "2025-03-31T08:26:08.108284",
     "status": "completed"
    },
    "tags": []
   },
   "source": [
    "Next, you will need to add your API key to your Kaggle Notebook as a Kaggle User Secret.\n",
    "\n",
    "![](https://storage.googleapis.com/kaggle-media/Images/5dgai_1.png)\n",
    "![](https://storage.googleapis.com/kaggle-media/Images/5dgai_2.png)\n",
    "![](https://storage.googleapis.com/kaggle-media/Images/5dgai_3.png)\n",
    "![](https://storage.googleapis.com/kaggle-media/Images/5dgai_4.png)"
   ]
  },
  {
   "cell_type": "markdown",
   "id": "e18c5533",
   "metadata": {
    "id": "UAjUV3BsvFXQ",
    "papermill": {
     "duration": 0.013068,
     "end_time": "2025-03-31T08:26:08.149628",
     "exception": false,
     "start_time": "2025-03-31T08:26:08.136560",
     "status": "completed"
    },
    "tags": []
   },
   "source": [
    "### Install the SDK"
   ]
  },
  {
   "cell_type": "code",
   "execution_count": 2,
   "id": "90226e2f",
   "metadata": {
    "execution": {
     "iopub.execute_input": "2025-03-31T08:26:08.179214Z",
     "iopub.status.busy": "2025-03-31T08:26:08.178117Z",
     "iopub.status.idle": "2025-03-31T08:26:28.095606Z",
     "shell.execute_reply": "2025-03-31T08:26:28.094213Z"
    },
    "id": "NzwzJFU9LqkJ",
    "papermill": {
     "duration": 19.935162,
     "end_time": "2025-03-31T08:26:28.098205",
     "exception": false,
     "start_time": "2025-03-31T08:26:08.163043",
     "status": "completed"
    },
    "tags": []
   },
   "outputs": [],
   "source": [
    "!pip uninstall -qy jupyterlab  # Remove unused packages from Kaggle's base image that conflict\n",
    "!pip install -U -q \"google-genai==1.7.0\""
   ]
  },
  {
   "cell_type": "markdown",
   "id": "badd8d0e",
   "metadata": {
    "papermill": {
     "duration": 0.013089,
     "end_time": "2025-03-31T08:26:28.124849",
     "exception": false,
     "start_time": "2025-03-31T08:26:28.111760",
     "status": "completed"
    },
    "tags": []
   },
   "source": [
    "Import the SDK and some helpers for rendering the output."
   ]
  },
  {
   "cell_type": "code",
   "execution_count": 3,
   "id": "803a068f",
   "metadata": {
    "execution": {
     "iopub.execute_input": "2025-03-31T08:26:28.153776Z",
     "iopub.status.busy": "2025-03-31T08:26:28.152867Z",
     "iopub.status.idle": "2025-03-31T08:26:29.493864Z",
     "shell.execute_reply": "2025-03-31T08:26:29.492836Z"
    },
    "id": "5DwxYIRavMST",
    "papermill": {
     "duration": 1.35835,
     "end_time": "2025-03-31T08:26:29.496428",
     "exception": false,
     "start_time": "2025-03-31T08:26:28.138078",
     "status": "completed"
    },
    "tags": []
   },
   "outputs": [],
   "source": [
    "from google import genai\n",
    "from google.genai import types\n",
    "\n",
    "from IPython.display import HTML, Markdown, display"
   ]
  },
  {
   "cell_type": "markdown",
   "id": "42853305",
   "metadata": {
    "papermill": {
     "duration": 0.013224,
     "end_time": "2025-03-31T08:26:29.523853",
     "exception": false,
     "start_time": "2025-03-31T08:26:29.510629",
     "status": "completed"
    },
    "tags": []
   },
   "source": [
    "Set up a retry helper. This allows you to \"Run all\" without worrying about per-minute quota."
   ]
  },
  {
   "cell_type": "code",
   "execution_count": 4,
   "id": "bddfe247",
   "metadata": {
    "execution": {
     "iopub.execute_input": "2025-03-31T08:26:29.552656Z",
     "iopub.status.busy": "2025-03-31T08:26:29.552123Z",
     "iopub.status.idle": "2025-03-31T08:26:29.742344Z",
     "shell.execute_reply": "2025-03-31T08:26:29.741532Z"
    },
    "papermill": {
     "duration": 0.207502,
     "end_time": "2025-03-31T08:26:29.744865",
     "exception": false,
     "start_time": "2025-03-31T08:26:29.537363",
     "status": "completed"
    },
    "tags": []
   },
   "outputs": [],
   "source": [
    "from google.api_core import retry\n",
    "\n",
    "\n",
    "is_retriable = lambda e: (isinstance(e, genai.errors.APIError) and e.code in {429, 503})\n",
    "\n",
    "genai.models.Models.generate_content = retry.Retry(\n",
    "    predicate=is_retriable)(genai.models.Models.generate_content)"
   ]
  },
  {
   "cell_type": "markdown",
   "id": "69741423",
   "metadata": {
    "id": "DNEt2BCOvOJ1",
    "papermill": {
     "duration": 0.013423,
     "end_time": "2025-03-31T08:26:29.771807",
     "exception": false,
     "start_time": "2025-03-31T08:26:29.758384",
     "status": "completed"
    },
    "tags": []
   },
   "source": [
    "### Set up your API key\n",
    "\n",
    "To run the following cell, your API key must be stored it in a [Kaggle secret](https://www.kaggle.com/discussions/product-feedback/114053) named `GOOGLE_API_KEY`.\n",
    "\n",
    "If you don't already have an API key, you can grab one from [AI Studio](https://aistudio.google.com/app/apikey). You can find [detailed instructions in the docs](https://ai.google.dev/gemini-api/docs/api-key).\n",
    "\n",
    "To make the key available through Kaggle secrets, choose `Secrets` from the `Add-ons` menu and follow the instructions to add your key or enable it for this notebook."
   ]
  },
  {
   "cell_type": "code",
   "execution_count": 5,
   "id": "2fd8d505",
   "metadata": {
    "execution": {
     "iopub.execute_input": "2025-03-31T08:26:29.800230Z",
     "iopub.status.busy": "2025-03-31T08:26:29.799716Z",
     "iopub.status.idle": "2025-03-31T08:26:29.995719Z",
     "shell.execute_reply": "2025-03-31T08:26:29.994655Z"
    },
    "id": "SHl0bkPCvayd",
    "papermill": {
     "duration": 0.213056,
     "end_time": "2025-03-31T08:26:29.998211",
     "exception": false,
     "start_time": "2025-03-31T08:26:29.785155",
     "status": "completed"
    },
    "tags": []
   },
   "outputs": [],
   "source": [
    "from kaggle_secrets import UserSecretsClient\n",
    "\n",
    "GOOGLE_API_KEY = UserSecretsClient().get_secret(\"GOOGLE_API_KEY\")"
   ]
  },
  {
   "attachments": {
    "d2be9aab-2527-48af-b6cf-1f06cdd7c3a7.png": {
     "image/png": "[encoded data removed]"
    }
   },
   "cell_type": "markdown",
   "id": "89fb1ac3",
   "metadata": {
    "id": "4e720472fd86",
    "papermill": {
     "duration": 0.013036,
     "end_time": "2025-03-31T08:26:30.024774",
     "exception": false,
     "start_time": "2025-03-31T08:26:30.011738",
     "status": "completed"
    },
    "tags": []
   },
   "source": [
    "If you received an error response along the lines of `No user secrets exist for kernel id ...`, then you need to add your API key via `Add-ons`, `Secrets` **and** enable it.\n",
    "\n",
    "![Screenshot of the checkbox to enable GOOGLE_API_KEY secret](https://storage.googleapis.com/kaggle-media/Images/5gdai_sc_3.png)"
   ]
  },
  {
   "cell_type": "markdown",
   "id": "277c08e5",
   "metadata": {
    "id": "H_YXCYIKvyZJ",
    "papermill": {
     "duration": 0.013186,
     "end_time": "2025-03-31T08:26:30.051266",
     "exception": false,
     "start_time": "2025-03-31T08:26:30.038080",
     "status": "completed"
    },
    "tags": []
   },
   "source": [
    "### Run your first prompt\n",
    "\n",
    "In this step, you will test that your API key is set up correctly by making a request.\n",
    "\n",
    "The Python SDK uses a [`Client` object](https://googleapis.github.io/python-genai/genai.html#genai.client.Client) to make requests to the API. The client lets you control which back-end to use (between the Gemini API and Vertex AI) and handles authentication (the API key).\n",
    "\n",
    "The `gemini-2.0-flash` model has been selected here.\n",
    "\n",
    "**Note**: If you see a `TransportError` on this step, you may need to **🔁 Factory reset** the notebook one time."
   ]
  },
  {
   "cell_type": "code",
   "execution_count": 6,
   "id": "d92d2f71",
   "metadata": {
    "execution": {
     "iopub.execute_input": "2025-03-31T08:26:30.080325Z",
     "iopub.status.busy": "2025-03-31T08:26:30.079519Z",
     "iopub.status.idle": "2025-03-31T08:26:32.050082Z",
     "shell.execute_reply": "2025-03-31T08:26:32.049080Z"
    },
    "id": "BV1o0PmcvyJF",
    "papermill": {
     "duration": 1.987627,
     "end_time": "2025-03-31T08:26:32.052520",
     "exception": false,
     "start_time": "2025-03-31T08:26:30.064893",
     "status": "completed"
    },
    "tags": []
   },
   "outputs": [
    {
     "name": "stdout",
     "output_type": "stream",
     "text": [
      "Imagine you have a really smart robot friend!  That robot friend can learn things, just like you do in school. \n",
      "\n",
      "**AI is like teaching that robot friend to learn all sorts of things!**\n",
      "\n",
      "* **Learning by example:** You can show the robot lots of pictures of cats, and tell it \"This is a cat!\". After seeing enough pictures, the robot can learn to recognize a cat even when it sees a new picture! That's like you learning what a cat looks like from seeing lots of different cats.\n",
      "\n",
      "* **Solving puzzles:**  You can teach the robot how to play games, like tic-tac-toe.  At first, it might play randomly and lose a lot. But, it can learn from its mistakes and get better and better until it's really good at playing!\n",
      "\n",
      "* **Understanding what you say:**  You can teach the robot to understand your voice and what you mean, even if you don't say things perfectly.  That's how your phone can understand you when you ask it questions.\n",
      "\n",
      "So, AI is all about making machines smart enough to do things that usually only people can do, like learn, think, and solve problems.  It's like having a super-smart student who learns and gets better and better all the time!  And it helps us do lots of cool things!\n",
      "\n"
     ]
    }
   ],
   "source": [
    "client = genai.Client(api_key=GOOGLE_API_KEY)\n",
    "\n",
    "response = client.models.generate_content(\n",
    "    model=\"gemini-2.0-flash\",\n",
    "    contents=\"Explain AI to me like I'm a kid.\")\n",
    "\n",
    "print(response.text)"
   ]
  },
  {
   "cell_type": "markdown",
   "id": "ba2b8940",
   "metadata": {
    "id": "f60ed9d8ae41",
    "papermill": {
     "duration": 0.013141,
     "end_time": "2025-03-31T08:26:32.079184",
     "exception": false,
     "start_time": "2025-03-31T08:26:32.066043",
     "status": "completed"
    },
    "tags": []
   },
   "source": [
    "The response often comes back in markdown format, which you can render directly in this notebook."
   ]
  },
  {
   "cell_type": "markdown",
   "id": "f527f208",
   "metadata": {
    "papermill": {
     "duration": 0.013154,
     "end_time": "2025-03-31T08:26:32.105803",
     "exception": false,
     "start_time": "2025-03-31T08:26:32.092649",
     "status": "completed"
    },
    "tags": []
   },
   "source": []
  },
  {
   "cell_type": "code",
   "execution_count": 7,
   "id": "9ed3c3f0",
   "metadata": {
    "execution": {
     "iopub.execute_input": "2025-03-31T08:26:32.134819Z",
     "iopub.status.busy": "2025-03-31T08:26:32.133756Z",
     "iopub.status.idle": "2025-03-31T08:26:32.141548Z",
     "shell.execute_reply": "2025-03-31T08:26:32.140536Z"
    },
    "id": "c933e5e460a5",
    "papermill": {
     "duration": 0.02461,
     "end_time": "2025-03-31T08:26:32.143773",
     "exception": false,
     "start_time": "2025-03-31T08:26:32.119163",
     "status": "completed"
    },
    "tags": []
   },
   "outputs": [
    {
     "data": {
      "text/markdown": [
       "Imagine you have a really smart robot friend!  That robot friend can learn things, just like you do in school. \n",
       "\n",
       "**AI is like teaching that robot friend to learn all sorts of things!**\n",
       "\n",
       "* **Learning by example:** You can show the robot lots of pictures of cats, and tell it \"This is a cat!\". After seeing enough pictures, the robot can learn to recognize a cat even when it sees a new picture! That's like you learning what a cat looks like from seeing lots of different cats.\n",
       "\n",
       "* **Solving puzzles:**  You can teach the robot how to play games, like tic-tac-toe.  At first, it might play randomly and lose a lot. But, it can learn from its mistakes and get better and better until it's really good at playing!\n",
       "\n",
       "* **Understanding what you say:**  You can teach the robot to understand your voice and what you mean, even if you don't say things perfectly.  That's how your phone can understand you when you ask it questions.\n",
       "\n",
       "So, AI is all about making machines smart enough to do things that usually only people can do, like learn, think, and solve problems.  It's like having a super-smart student who learns and gets better and better all the time!  And it helps us do lots of cool things!\n"
      ],
      "text/plain": [
       "<IPython.core.display.Markdown object>"
      ]
     },
     "execution_count": 7,
     "metadata": {},
     "output_type": "execute_result"
    }
   ],
   "source": [
    "Markdown(response.text)"
   ]
  },
  {
   "cell_type": "markdown",
   "id": "b9c86999",
   "metadata": {
    "id": "byx0pT9ZMW2Q",
    "papermill": {
     "duration": 0.01365,
     "end_time": "2025-03-31T08:26:32.171513",
     "exception": false,
     "start_time": "2025-03-31T08:26:32.157863",
     "status": "completed"
    },
    "tags": []
   },
   "source": [
    "### Start a chat\n",
    "\n",
    "The previous example uses a single-turn, text-in/text-out structure, but you can also set up a multi-turn chat structure too."
   ]
  },
  {
   "cell_type": "code",
   "execution_count": 8,
   "id": "5e972798",
   "metadata": {
    "execution": {
     "iopub.execute_input": "2025-03-31T08:26:32.202700Z",
     "iopub.status.busy": "2025-03-31T08:26:32.201735Z",
     "iopub.status.idle": "2025-03-31T08:26:32.695892Z",
     "shell.execute_reply": "2025-03-31T08:26:32.694720Z"
    },
    "id": "lV_S5ZL5MidD",
    "papermill": {
     "duration": 0.512256,
     "end_time": "2025-03-31T08:26:32.698639",
     "exception": false,
     "start_time": "2025-03-31T08:26:32.186383",
     "status": "completed"
    },
    "tags": []
   },
   "outputs": [
    {
     "name": "stdout",
     "output_type": "stream",
     "text": [
      "Greetings, Zlork! It's nice to meet you. Is there anything I can help you with today?\n",
      "\n"
     ]
    }
   ],
   "source": [
    "chat = client.chats.create(model='gemini-2.0-flash', history=[])\n",
    "response = chat.send_message('Hello! My name is Zlork.')\n",
    "print(response.text)"
   ]
  },
  {
   "cell_type": "code",
   "execution_count": 9,
   "id": "509e5ab8",
   "metadata": {
    "execution": {
     "iopub.execute_input": "2025-03-31T08:26:32.728911Z",
     "iopub.status.busy": "2025-03-31T08:26:32.728528Z",
     "iopub.status.idle": "2025-03-31T08:26:34.243788Z",
     "shell.execute_reply": "2025-03-31T08:26:34.242550Z"
    },
    "id": "7b0372c3c64a",
    "papermill": {
     "duration": 1.53275,
     "end_time": "2025-03-31T08:26:34.246197",
     "exception": false,
     "start_time": "2025-03-31T08:26:32.713447",
     "status": "completed"
    },
    "tags": []
   },
   "outputs": [
    {
     "name": "stdout",
     "output_type": "stream",
     "text": [
      "Okay, here's a fascinating fact about dinosaurs:\n",
      "\n",
      "**Many dinosaurs were likely covered in feathers, even the ones we often picture as scaly!**\n",
      "\n",
      "While we often imagine dinosaurs as scaly reptiles, the fossil record increasingly shows that feathers were much more widespread than originally thought. This isn't just about small, bird-like dinosaurs. Larger dinosaurs, even some of the theropods (the group that includes T. rex!), may have had feathers, especially when young.\n",
      "\n",
      "These feathers weren't necessarily for flight. They likely served other purposes like:\n",
      "\n",
      "*   **Insulation:** Keeping warm, especially for smaller dinosaurs or in colder climates.\n",
      "*   **Display:** Attracting mates or intimidating rivals with colorful or elaborate plumage.\n",
      "*   **Camouflage:** Blending in with their environment.\n",
      "\n",
      "So, the next time you picture a dinosaur, consider that it might have been a lot fluffier than you think! This is a constantly evolving area of paleontological research, and new discoveries are changing our understanding of dinosaurs all the time.\n",
      "\n"
     ]
    }
   ],
   "source": [
    "response = chat.send_message('Can you tell me something interesting about dinosaurs?')\n",
    "print(response.text)"
   ]
  },
  {
   "cell_type": "markdown",
   "id": "e5d5b01f",
   "metadata": {
    "papermill": {
     "duration": 0.013777,
     "end_time": "2025-03-31T08:26:34.274128",
     "exception": false,
     "start_time": "2025-03-31T08:26:34.260351",
     "status": "completed"
    },
    "tags": []
   },
   "source": [
    "While you have the `chat` object alive, the conversation state\n",
    "persists. Confirm that by asking if it knows the user's name."
   ]
  },
  {
   "cell_type": "code",
   "execution_count": 10,
   "id": "1543e9c3",
   "metadata": {
    "execution": {
     "iopub.execute_input": "2025-03-31T08:26:34.304100Z",
     "iopub.status.busy": "2025-03-31T08:26:34.303691Z",
     "iopub.status.idle": "2025-03-31T08:26:34.643219Z",
     "shell.execute_reply": "2025-03-31T08:26:34.642019Z"
    },
    "id": "d3f9591392a7",
    "papermill": {
     "duration": 0.357473,
     "end_time": "2025-03-31T08:26:34.645589",
     "exception": false,
     "start_time": "2025-03-31T08:26:34.288116",
     "status": "completed"
    },
    "tags": []
   },
   "outputs": [
    {
     "name": "stdout",
     "output_type": "stream",
     "text": [
      "Yes, I remember your name is Zlork.\n",
      "\n"
     ]
    }
   ],
   "source": [
    "response = chat.send_message('Do you remember what my name is?')\n",
    "print(response.text)"
   ]
  },
  {
   "cell_type": "markdown",
   "id": "2d62cca5",
   "metadata": {
    "id": "2KAjpr1200sW",
    "papermill": {
     "duration": 0.013699,
     "end_time": "2025-03-31T08:26:34.673369",
     "exception": false,
     "start_time": "2025-03-31T08:26:34.659670",
     "status": "completed"
    },
    "tags": []
   },
   "source": [
    "### Choose a model\n",
    "\n",
    "The Gemini API provides access to a number of models from the Gemini model family. Read about the available models and their capabilities on the [model overview page](https://ai.google.dev/gemini-api/docs/models/gemini).\n",
    "\n",
    "In this step you'll use the API to list all of the available models."
   ]
  },
  {
   "cell_type": "code",
   "execution_count": 11,
   "id": "c6740db9",
   "metadata": {
    "execution": {
     "iopub.execute_input": "2025-03-31T08:26:34.702855Z",
     "iopub.status.busy": "2025-03-31T08:26:34.702426Z",
     "iopub.status.idle": "2025-03-31T08:26:34.728807Z",
     "shell.execute_reply": "2025-03-31T08:26:34.727551Z"
    },
    "id": "uUUZa2uq2jDm",
    "papermill": {
     "duration": 0.04357,
     "end_time": "2025-03-31T08:26:34.730951",
     "exception": false,
     "start_time": "2025-03-31T08:26:34.687381",
     "status": "completed"
    },
    "tags": []
   },
   "outputs": [
    {
     "name": "stdout",
     "output_type": "stream",
     "text": [
      "models/chat-bison-001\n",
      "models/text-bison-001\n",
      "models/embedding-gecko-001\n",
      "models/gemini-1.0-pro-vision-latest\n",
      "models/gemini-pro-vision\n",
      "models/gemini-1.5-pro-latest\n",
      "models/gemini-1.5-pro-001\n",
      "models/gemini-1.5-pro-002\n",
      "models/gemini-1.5-pro\n",
      "models/gemini-1.5-flash-latest\n",
      "models/gemini-1.5-flash-001\n",
      "models/gemini-1.5-flash-001-tuning\n",
      "models/gemini-1.5-flash\n",
      "models/gemini-1.5-flash-002\n",
      "models/gemini-1.5-flash-8b\n",
      "models/gemini-1.5-flash-8b-001\n",
      "models/gemini-1.5-flash-8b-latest\n",
      "models/gemini-1.5-flash-8b-exp-0827\n",
      "models/gemini-1.5-flash-8b-exp-0924\n",
      "models/gemini-2.5-pro-exp-03-25\n",
      "models/gemini-2.0-flash-exp\n",
      "models/gemini-2.0-flash\n",
      "models/gemini-2.0-flash-001\n",
      "models/gemini-2.0-flash-exp-image-generation\n",
      "models/gemini-2.0-flash-lite-001\n",
      "models/gemini-2.0-flash-lite\n",
      "models/gemini-2.0-flash-lite-preview-02-05\n",
      "models/gemini-2.0-flash-lite-preview\n",
      "models/gemini-2.0-pro-exp\n",
      "models/gemini-2.0-pro-exp-02-05\n",
      "models/gemini-exp-1206\n",
      "models/gemini-2.0-flash-thinking-exp-01-21\n",
      "models/gemini-2.0-flash-thinking-exp\n",
      "models/gemini-2.0-flash-thinking-exp-1219\n",
      "models/learnlm-1.5-pro-experimental\n",
      "models/gemma-3-27b-it\n",
      "models/embedding-001\n",
      "models/text-embedding-004\n",
      "models/gemini-embedding-exp-03-07\n",
      "models/gemini-embedding-exp\n",
      "models/aqa\n",
      "models/imagen-3.0-generate-002\n"
     ]
    }
   ],
   "source": [
    "for model in client.models.list():\n",
    "  print(model.name)"
   ]
  },
  {
   "cell_type": "markdown",
   "id": "ad6ae55e",
   "metadata": {
    "id": "rN49kSI54R1v",
    "papermill": {
     "duration": 0.013891,
     "end_time": "2025-03-31T08:26:34.759011",
     "exception": false,
     "start_time": "2025-03-31T08:26:34.745120",
     "status": "completed"
    },
    "tags": []
   },
   "source": [
    "The [`models.list`](https://ai.google.dev/api/models#method:-models.list) response also returns additional information about the model's capabilities, like the token limits and supported parameters."
   ]
  },
  {
   "cell_type": "code",
   "execution_count": 12,
   "id": "9e2433bc",
   "metadata": {
    "execution": {
     "iopub.execute_input": "2025-03-31T08:26:34.788628Z",
     "iopub.status.busy": "2025-03-31T08:26:34.788246Z",
     "iopub.status.idle": "2025-03-31T08:26:34.814616Z",
     "shell.execute_reply": "2025-03-31T08:26:34.813568Z"
    },
    "id": "k7JJ1K6j4Rl8",
    "papermill": {
     "duration": 0.043867,
     "end_time": "2025-03-31T08:26:34.816923",
     "exception": false,
     "start_time": "2025-03-31T08:26:34.773056",
     "status": "completed"
    },
    "tags": []
   },
   "outputs": [
    {
     "name": "stdout",
     "output_type": "stream",
     "text": [
      "{'description': 'Gemini 2.0 Flash',\n",
      " 'display_name': 'Gemini 2.0 Flash',\n",
      " 'input_token_limit': 1048576,\n",
      " 'name': 'models/gemini-2.0-flash',\n",
      " 'output_token_limit': 8192,\n",
      " 'supported_actions': ['generateContent', 'countTokens'],\n",
      " 'tuned_model_info': {},\n",
      " 'version': '2.0'}\n"
     ]
    }
   ],
   "source": [
    "from pprint import pprint\n",
    "\n",
    "for model in client.models.list():\n",
    "  if model.name == 'models/gemini-2.0-flash':\n",
    "    pprint(model.to_json_dict())\n",
    "    break"
   ]
  },
  {
   "cell_type": "markdown",
   "id": "a9c1e280",
   "metadata": {
    "id": "5rU_UBlZdooM",
    "papermill": {
     "duration": 0.013853,
     "end_time": "2025-03-31T08:26:34.844857",
     "exception": false,
     "start_time": "2025-03-31T08:26:34.831004",
     "status": "completed"
    },
    "tags": []
   },
   "source": [
    "## Explore generation parameters\n",
    "\n"
   ]
  },
  {
   "cell_type": "markdown",
   "id": "9bbd5f6d",
   "metadata": {
    "id": "G7NfEizeipbW",
    "papermill": {
     "duration": 0.013929,
     "end_time": "2025-03-31T08:26:34.873030",
     "exception": false,
     "start_time": "2025-03-31T08:26:34.859101",
     "status": "completed"
    },
    "tags": []
   },
   "source": [
    "### Output length\n",
    "\n",
    "When generating text with an LLM, the output length affects cost and performance. Generating more tokens increases computation, leading to higher energy consumption, latency, and cost.\n",
    "\n",
    "To stop the model from generating tokens past a limit, you can specify the `max_output_tokens` parameter when using the Gemini API. Specifying this parameter does not influence the generation of the output tokens, so the output will not become more stylistically or textually succinct, but it will stop generating tokens once the specified length is reached. Prompt engineering may be required to generate a more complete output for your given limit."
   ]
  },
  {
   "cell_type": "code",
   "execution_count": 13,
   "id": "c43f9dde",
   "metadata": {
    "execution": {
     "iopub.execute_input": "2025-03-31T08:26:34.903774Z",
     "iopub.status.busy": "2025-03-31T08:26:34.902770Z",
     "iopub.status.idle": "2025-03-31T08:26:36.281881Z",
     "shell.execute_reply": "2025-03-31T08:26:36.280787Z"
    },
    "id": "qVf23JsIi9ma",
    "papermill": {
     "duration": 1.397085,
     "end_time": "2025-03-31T08:26:36.284219",
     "exception": false,
     "start_time": "2025-03-31T08:26:34.887134",
     "status": "completed"
    },
    "tags": []
   },
   "outputs": [
    {
     "name": "stdout",
     "output_type": "stream",
     "text": [
      "## The Enduring Olive: A Staple of Health, Culture, and Sustainability in Modern Society\n",
      "\n",
      "The humble olive, a fruit steeped in history and tradition, continues to hold a prominent and multifaceted importance in modern society. From its culinary versatility and proven health benefits to its role in cultural heritage and contribution to sustainable agriculture, the olive and its derivatives have woven themselves into the fabric of our lives, proving their enduring relevance in a rapidly evolving world.\n",
      "\n",
      "Firstly, the olive's culinary significance is undeniable. Olive oil, the liquid gold extracted from the fruit, has become a cornerstone of healthy cooking across the globe. Its distinctive flavors, ranging from fruity and delicate to robust and peppery, enhance a vast array of dishes. In the Mediterranean diet, revered for its positive impact on cardiovascular health, olive oil reigns supreme as the primary source of fat. From drizzling over salads and grilling vegetables to sautéing meats and baking breads, olive oil’s versatility is unmatched. Its ability to impart flavor,\n"
     ]
    }
   ],
   "source": [
    "from google.genai import types\n",
    "\n",
    "short_config = types.GenerateContentConfig(max_output_tokens=200)\n",
    "\n",
    "response = client.models.generate_content(\n",
    "    model='gemini-2.0-flash',\n",
    "    config=short_config,\n",
    "    contents='Write a 1000 word essay on the importance of olives in modern society.')\n",
    "\n",
    "print(response.text)"
   ]
  },
  {
   "cell_type": "code",
   "execution_count": 14,
   "id": "21868611",
   "metadata": {
    "execution": {
     "iopub.execute_input": "2025-03-31T08:26:36.315223Z",
     "iopub.status.busy": "2025-03-31T08:26:36.314287Z",
     "iopub.status.idle": "2025-03-31T08:26:37.808670Z",
     "shell.execute_reply": "2025-03-31T08:26:37.807573Z"
    },
    "id": "W-3kR2F5kdMR",
    "papermill": {
     "duration": 1.512741,
     "end_time": "2025-03-31T08:26:37.811189",
     "exception": false,
     "start_time": "2025-03-31T08:26:36.298448",
     "status": "completed"
    },
    "tags": []
   },
   "outputs": [
    {
     "name": "stdout",
     "output_type": "stream",
     "text": [
      "Okay, here are a poem and a song suggestion, both tailored to be lasting and lovable.\n",
      "\n",
      "**Poem: Ode to the Olive**\n",
      "\n",
      "From sun-kissed groves, a humble prize,\n",
      "The olive waits, beneath blue skies.\n",
      "Pressed into oil, a golden stream,\n",
      "A healthy heart, a vibrant dream.\n",
      "\n",
      "Upon the board, a briny treat,\n",
      "A taste of Earth, both sour and sweet.\n",
      "From salads bright to tapenade,\n",
      "A culinary parade.\n",
      "\n",
      "No longer just a Grecian past,\n",
      "But fast food staple, built to last.\n",
      "The olive branch, a symbol old,\n",
      "Now feeds the world, in stories told.\n",
      "\n",
      "***\n",
      "\n",
      "**Song Suggestion: \"A Little Kindness Goes a Long Way\"**\n",
      "\n",
      "This type of song, focusing on universal themes, is likely to resonate and stay with you.  Here's why it's a good choice:\n",
      "\n",
      "*   **Universal Theme:** Kindness is something\n"
     ]
    }
   ],
   "source": [
    "response = client.models.generate_content(\n",
    "    model='gemini-2.0-flash',\n",
    "    config=short_config,\n",
    "    contents='Write a short poem on the importance of olives in modern society also give me a lasting lovable song for me.')\n",
    "\n",
    "print(response.text)"
   ]
  },
  {
   "cell_type": "markdown",
   "id": "72bdeec4",
   "metadata": {
    "id": "3ZhDSLB6lqqB",
    "papermill": {
     "duration": 0.014539,
     "end_time": "2025-03-31T08:26:37.840606",
     "exception": false,
     "start_time": "2025-03-31T08:26:37.826067",
     "status": "completed"
    },
    "tags": []
   },
   "source": [
    "Explore with your own prompts. Try a prompt with a restrictive output limit and then adjust the prompt to work within that limit."
   ]
  },
  {
   "cell_type": "markdown",
   "id": "6bfd6c6b",
   "metadata": {
    "id": "alx-WaAvir_9",
    "papermill": {
     "duration": 0.014008,
     "end_time": "2025-03-31T08:26:37.869131",
     "exception": false,
     "start_time": "2025-03-31T08:26:37.855123",
     "status": "completed"
    },
    "tags": []
   },
   "source": [
    "### Temperature\n",
    "\n",
    "Temperature controls the degree of randomness in token selection. Higher temperatures result in a higher number of candidate tokens from which the next output token is selected, and can produce more diverse results, while lower temperatures have the opposite effect, such that a temperature of 0 results in greedy decoding, selecting the most probable token at each step.\n",
    "\n",
    "Temperature doesn't provide any guarantees of randomness, but it can be used to \"nudge\" the output somewhat."
   ]
  },
  {
   "cell_type": "code",
   "execution_count": 15,
   "id": "e6f3c2b0",
   "metadata": {
    "execution": {
     "iopub.execute_input": "2025-03-31T08:26:37.899306Z",
     "iopub.status.busy": "2025-03-31T08:26:37.898888Z",
     "iopub.status.idle": "2025-03-31T08:26:41.606649Z",
     "shell.execute_reply": "2025-03-31T08:26:41.605628Z"
    },
    "id": "SHraGMzqnZqt",
    "papermill": {
     "duration": 3.725646,
     "end_time": "2025-03-31T08:26:41.608982",
     "exception": false,
     "start_time": "2025-03-31T08:26:37.883336",
     "status": "completed"
    },
    "tags": []
   },
   "outputs": [
    {
     "name": "stdout",
     "output_type": "stream",
     "text": [
      "Blue\n",
      "\n",
      "I am an AI language model, trained to process and generate text. I do not \"see\" or \"perceive\" colors in the human sense. I access and utilize information about colors and their associated concepts based on the data I have been trained on. My text is generated based on patterns, probabilities, and semantic relationships within the vast amount of text data I've learned from.\n",
      " -------------------------\n",
      "Cerulean\n",
      "\n",
      "The LLM model text will vary depending on which specific LLM is being referred to. Could you please clarify which LLM model you're asking about? For example, you might mean the underlying model for the tool we're currently using, or a different model like GPT-3, LaMDA, or another.\n",
      " -------------------------\n",
      "Magenta\n",
      "\n",
      "The prompt \"Pick a random colour... (respond in a single word) also tell the llm models text\" requests two things:\n",
      "\n",
      "1.  **Generate a random color and output it as a single word.**  I fulfilled this with \"Magenta\".\n",
      "2.  **\"tell the llm models text\"** - This is ambiguous, but interpreted as a request to disclose/summarize my actions. The text above this line (\"Magenta\", and the following descriptive sentence) represents that explanation.\n",
      " -------------------------\n",
      "Turquoise\n",
      "\n",
      "The text you provided does not contain the LLM model's text. If you would like, copy it below, and I will analyze the LLM's specific content.\n",
      " -------------------------\n",
      "Magenta\n",
      "\n",
      "The LLM's text is above (the \"Magenta\" response).\n",
      " -------------------------\n"
     ]
    }
   ],
   "source": [
    "high_temp_config = types.GenerateContentConfig(temperature=2.0)\n",
    "\n",
    "\n",
    "for _ in range(5):\n",
    "  response = client.models.generate_content(\n",
    "      model='gemini-2.0-flash',\n",
    "      config=high_temp_config,\n",
    "      contents='Pick a random colour... (respond in a single word) also tell the llm models text')\n",
    "\n",
    "  if response.text:\n",
    "    print(response.text, '-' * 25)"
   ]
  },
  {
   "cell_type": "markdown",
   "id": "8fc681a3",
   "metadata": {
    "id": "z3J4pCTuof7e",
    "papermill": {
     "duration": 0.014442,
     "end_time": "2025-03-31T08:26:41.638275",
     "exception": false,
     "start_time": "2025-03-31T08:26:41.623833",
     "status": "completed"
    },
    "tags": []
   },
   "source": [
    "Now try the same prompt with temperature set to zero. Note that the output is not completely deterministic, as other parameters affect token selection, but the results will tend to be more stable."
   ]
  },
  {
   "cell_type": "code",
   "execution_count": 16,
   "id": "ec4fa93e",
   "metadata": {
    "execution": {
     "iopub.execute_input": "2025-03-31T08:26:41.669103Z",
     "iopub.status.busy": "2025-03-31T08:26:41.668721Z",
     "iopub.status.idle": "2025-03-31T08:26:43.736131Z",
     "shell.execute_reply": "2025-03-31T08:26:43.734904Z"
    },
    "id": "clymkWv-PfUZ",
    "papermill": {
     "duration": 2.085629,
     "end_time": "2025-03-31T08:26:43.738446",
     "exception": false,
     "start_time": "2025-03-31T08:26:41.652817",
     "status": "completed"
    },
    "tags": []
   },
   "outputs": [
    {
     "name": "stdout",
     "output_type": "stream",
     "text": [
      "Azure.\n",
      " -------------------------\n",
      "Azure.\n",
      " -------------------------\n",
      "Azure.\n",
      " -------------------------\n",
      "Azure.\n",
      " -------------------------\n",
      "Azure.\n",
      " -------------------------\n"
     ]
    }
   ],
   "source": [
    "low_temp_config = types.GenerateContentConfig(temperature=0.0)\n",
    "\n",
    "for _ in range(5):\n",
    "  response = client.models.generate_content(\n",
    "      model='gemini-2.0-flash',\n",
    "      config=low_temp_config,\n",
    "      contents='Pick a random colour also tell me about srm universitry... (respond in a single word)')\n",
    "\n",
    "  if response.text:\n",
    "    print(response.text, '-' * 25)"
   ]
  },
  {
   "cell_type": "markdown",
   "id": "9463ed8f",
   "metadata": {
    "id": "St5nt3vzitsZ",
    "papermill": {
     "duration": 0.015101,
     "end_time": "2025-03-31T08:26:43.768802",
     "exception": false,
     "start_time": "2025-03-31T08:26:43.753701",
     "status": "completed"
    },
    "tags": []
   },
   "source": [
    "### Top-P\n",
    "\n",
    "Like temperature, the top-P parameter is also used to control the diversity of the model's output.\n",
    "\n",
    "Top-P defines the probability threshold that, once cumulatively exceeded, tokens stop being selected as candidates. A top-P of 0 is typically equivalent to greedy decoding, and a top-P of 1 typically selects every token in the model's vocabulary.\n",
    "\n",
    "You may also see top-K referenced in LLM literature. Top-K is not configurable in the Gemini 2.0 series of models, but can be changed in older models. Top-K is a positive integer that defines the number of most probable tokens from which to select the output token. A top-K of 1 selects a single token, performing greedy decoding.\n",
    "\n",
    "\n",
    "Run this example a number of times, change the settings and observe the change in output."
   ]
  },
  {
   "cell_type": "code",
   "execution_count": 17,
   "id": "4f903f0a",
   "metadata": {
    "execution": {
     "iopub.execute_input": "2025-03-31T08:26:43.800627Z",
     "iopub.status.busy": "2025-03-31T08:26:43.800196Z",
     "iopub.status.idle": "2025-03-31T08:26:48.281652Z",
     "shell.execute_reply": "2025-03-31T08:26:48.280539Z"
    },
    "id": "lPlzpEavUV8F",
    "papermill": {
     "duration": 4.500329,
     "end_time": "2025-03-31T08:26:48.284189",
     "exception": false,
     "start_time": "2025-03-31T08:26:43.783860",
     "status": "completed"
    },
    "tags": []
   },
   "outputs": [
    {
     "name": "stdout",
     "output_type": "stream",
     "text": [
      "Clementine, a ginger tabby with eyes like melted amber, lived a life of luxurious monotony. Sunny spots, feather toys, and endless naps punctuated by the gentle clink of her food bowl – this was her kingdom, ruled from the velvet throne of the armchair. But Clementine harbored a secret yearning for something more, a whisper of wildness in her domesticated soul. She dreamt of forests, of chasing butterflies under a boundless sky, of mysteries beyond the garden fence.\n",
      "\n",
      "One day, the door, usually a solid barrier to adventure, was left ajar. A tantalizing gust of wind, carrying the scent of damp earth and blooming honeysuckle, beckoned her. Clementine hesitated, her pampered paws twitching. Duty whispered of comfort and security, but a louder, more insistent voice urged her forward.\n",
      "\n",
      "With a flick of her tail, she was out.\n",
      "\n",
      "The world exploded with sensory overload. Blades of grass tickled her whiskers, butterflies danced a dizzying ballet, and the symphony of chirps, buzzes, and rustles was almost overwhelming. She padded cautiously through the tall grass, a tiny explorer in a vast, green ocean.\n",
      "\n",
      "Her first encounter was with a grumpy hedgehog named Horace, who regarded her with suspicion from beneath a prickly brow. \"Lost, are you, little kitty?\" he grumbled.\n",
      "\n",
      "\"Adventuring,\" Clementine corrected, puffing out her chest. Horace just snorted and shuffled deeper into the undergrowth.\n",
      "\n",
      "Next, she met a family of field mice, who scattered at her approach, leaving behind a scattering of sunflower seeds. Clementine, usually indifferent to mice, found herself feeling a pang of empathy. Perhaps adventure wasn't all about conquering.\n",
      "\n",
      "The sun climbed higher, painting the sky in hues of gold and rose. Clementine, emboldened by her journey, ventured into a small wood. Sunlight dappled through the leaves, creating an ethereal glow. There, perched on a branch, was a robin, singing a melody so sweet it made her fur tingle.\n",
      "\n",
      "The robin, noticing her, tilted its head. \"Lost, little cat?\" it chirped, its voice full of curiosity.\n",
      "\n",
      "Clementine, tired but triumphant, shook her head. \"Adventuring,\" she purred, her voice hoarse but proud.\n",
      "\n",
      "The robin nodded, then launched into the air, its song even brighter now, as if celebrating her bravery. Clementine watched it go, a strange mix of exhaustion and exhilaration washing over her.\n",
      "\n",
      "As dusk began to settle, casting long shadows, a wave of longing washed over her. Home. The familiar scent of her humans, the comforting warmth of the armchair, the gentle clink of her food bowl.\n",
      "\n",
      "She turned, her paws knowing the way. The journey back was faster, the world less overwhelming. She slipped through the ajar door just as her humans were calling her name, their voices laced with worry.\n",
      "\n",
      "They scooped her up, showering her with affection. Clementine purred, rubbing against their legs, her secret safe within her. She had seen the world, felt the thrill of the unknown, and proven to herself that even a pampered house cat could be an adventurer.\n",
      "\n",
      "As she curled up on her beloved armchair, the memory of the robin's song filled her heart. The world outside was still there, waiting. And Clementine knew, with a certainty that settled deep in her bones, that this was just the beginning of her adventures. The garden fence, it seemed, was no longer a boundary, but a gateway.\n",
      "\n"
     ]
    }
   ],
   "source": [
    "model_config = types.GenerateContentConfig(\n",
    "    # These are the default values for gemini-2.0-flash.\n",
    "    temperature=1.0,\n",
    "    top_p=0.95,\n",
    ")\n",
    "\n",
    "story_prompt = \"You are a creative writer. Write a short story about a cat who goes on an adventure.\"\n",
    "response = client.models.generate_content(\n",
    "    model='gemini-2.0-flash',\n",
    "    config=model_config,\n",
    "    contents=story_prompt)\n",
    "\n",
    "print(response.text)"
   ]
  },
  {
   "cell_type": "markdown",
   "id": "7d2a0e01",
   "metadata": {
    "id": "rMrYs1koY6DX",
    "papermill": {
     "duration": 0.015659,
     "end_time": "2025-03-31T08:26:48.316118",
     "exception": false,
     "start_time": "2025-03-31T08:26:48.300459",
     "status": "completed"
    },
    "tags": []
   },
   "source": [
    "## Prompting\n",
    "\n",
    "This section contains some prompts from the chapter for you to try out directly in the API. Try changing the text here to see how each prompt performs with different instructions, more examples, or any other changes you can think of."
   ]
  },
  {
   "cell_type": "markdown",
   "id": "3a9d6f54",
   "metadata": {
    "id": "hhj_tQidZJP7",
    "papermill": {
     "duration": 0.015517,
     "end_time": "2025-03-31T08:26:48.346886",
     "exception": false,
     "start_time": "2025-03-31T08:26:48.331369",
     "status": "completed"
    },
    "tags": []
   },
   "source": [
    "### Zero-shot\n",
    "\n",
    "Zero-shot prompts are prompts that describe the request for the model directly.\n",
    "\n",
    "<table align=left>\n",
    "  <td>\n",
    "    <a target=\"_blank\" href=\"https://aistudio.google.com/prompts/1gzKKgDHwkAvexG5Up0LMtl1-6jKMKe4g\"><img src=\"https://ai.google.dev/site-assets/images/marketing/home/icon-ais.png\" style=\"height: 24px\" height=24/> Open in AI Studio</a>\n",
    "  </td>\n",
    "</table>"
   ]
  },
  {
   "cell_type": "code",
   "execution_count": 18,
   "id": "1d4688bd",
   "metadata": {
    "execution": {
     "iopub.execute_input": "2025-03-31T08:26:48.378964Z",
     "iopub.status.busy": "2025-03-31T08:26:48.378603Z",
     "iopub.status.idle": "2025-03-31T08:27:57.965690Z",
     "shell.execute_reply": "2025-03-31T08:27:57.964563Z"
    },
    "id": "1_t-cwnDZzbH",
    "papermill": {
     "duration": 69.621099,
     "end_time": "2025-03-31T08:27:57.983087",
     "exception": false,
     "start_time": "2025-03-31T08:26:48.361988",
     "status": "completed"
    },
    "tags": []
   },
   "outputs": [
    {
     "name": "stdout",
     "output_type": "stream",
     "text": [
      "Based on the review text\n"
     ]
    }
   ],
   "source": [
    "model_config = types.GenerateContentConfig(\n",
    "    temperature=0.1,\n",
    "    top_p=1,\n",
    "    max_output_tokens=5,\n",
    ")\n",
    "\n",
    "zero_shot_prompt = \"\"\"Classify movie reviews as POSITIVE, NEUTRAL or NEGATIVE.\n",
    "Review: \"Her\" is a disturbing study revealing the direction\n",
    "humanity is headed if AI is allowed to keep evolving,\n",
    "unchecked. I wish there were more movies like this masterpiece.\n",
    "Sentiment:I LOVE YOU\"\"\"\n",
    "\n",
    "response = client.models.generate_content(\n",
    "    model='gemini-2.0-flash',\n",
    "    config=model_config,\n",
    "    contents=zero_shot_prompt)\n",
    "\n",
    "print(response.text)"
   ]
  },
  {
   "cell_type": "markdown",
   "id": "12961835",
   "metadata": {
    "id": "3b5568bdeb11",
    "papermill": {
     "duration": 0.015018,
     "end_time": "2025-03-31T08:27:58.013187",
     "exception": false,
     "start_time": "2025-03-31T08:27:57.998169",
     "status": "completed"
    },
    "tags": []
   },
   "source": [
    "#### Enum mode\n",
    "\n",
    "The models are trained to generate text, and while the Gemini 2.0 models are great at following instructions, other models can sometimes produce more text than you may wish for. In the preceding example, the model will output the label, but sometimes it can include a preceding \"Sentiment\" label, and without an output token limit, it may also add explanatory text afterwards. See [this prompt in AI Studio](https://aistudio.google.com/prompts/1gzKKgDHwkAvexG5Up0LMtl1-6jKMKe4g) for an example.\n",
    "\n",
    "The Gemini API has an [Enum mode](https://github.com/google-gemini/cookbook/blob/main/quickstarts/Enum.ipynb) feature that allows you to constrain the output to a fixed set of values."
   ]
  },
  {
   "cell_type": "code",
   "execution_count": 19,
   "id": "cc39c472",
   "metadata": {
    "execution": {
     "iopub.execute_input": "2025-03-31T08:27:58.045804Z",
     "iopub.status.busy": "2025-03-31T08:27:58.044808Z",
     "iopub.status.idle": "2025-03-31T08:27:58.461620Z",
     "shell.execute_reply": "2025-03-31T08:27:58.460551Z"
    },
    "id": "ad118a56c598",
    "papermill": {
     "duration": 0.435797,
     "end_time": "2025-03-31T08:27:58.464142",
     "exception": false,
     "start_time": "2025-03-31T08:27:58.028345",
     "status": "completed"
    },
    "tags": []
   },
   "outputs": [
    {
     "name": "stdout",
     "output_type": "stream",
     "text": [
      "Amit Madharchod\n"
     ]
    }
   ],
   "source": [
    "import enum\n",
    "\n",
    "class Sentiment(enum.Enum):\n",
    "    POSITIVE = \"Amit Madharchod\"\n",
    "    NEUTRAL = \"neutral\"\n",
    "    NEGATIVE = \"negative\"\n",
    "\n",
    "\n",
    "response = client.models.generate_content(\n",
    "    model='gemini-2.0-flash',\n",
    "    config=types.GenerateContentConfig(\n",
    "        response_mime_type=\"text/x.enum\",\n",
    "        response_schema=Sentiment\n",
    "    ),\n",
    "    contents=zero_shot_prompt)\n",
    "\n",
    "print(response.text)"
   ]
  },
  {
   "cell_type": "markdown",
   "id": "2c08e42f",
   "metadata": {
    "papermill": {
     "duration": 0.016139,
     "end_time": "2025-03-31T08:27:58.496238",
     "exception": false,
     "start_time": "2025-03-31T08:27:58.480099",
     "status": "completed"
    },
    "tags": []
   },
   "source": [
    "When using constrained output like an enum, the Python SDK will attempt to convert the model's text response into a Python object automatically. It's stored in the `response.parsed` field."
   ]
  },
  {
   "cell_type": "code",
   "execution_count": 20,
   "id": "68e0ba41",
   "metadata": {
    "execution": {
     "iopub.execute_input": "2025-03-31T08:27:58.528989Z",
     "iopub.status.busy": "2025-03-31T08:27:58.528033Z",
     "iopub.status.idle": "2025-03-31T08:27:58.534663Z",
     "shell.execute_reply": "2025-03-31T08:27:58.532828Z"
    },
    "papermill": {
     "duration": 0.025482,
     "end_time": "2025-03-31T08:27:58.536999",
     "exception": false,
     "start_time": "2025-03-31T08:27:58.511517",
     "status": "completed"
    },
    "tags": []
   },
   "outputs": [
    {
     "name": "stdout",
     "output_type": "stream",
     "text": [
      "Sentiment.POSITIVE\n",
      "<enum 'Sentiment'>\n"
     ]
    }
   ],
   "source": [
    "enum_response = response.parsed\n",
    "print(enum_response)\n",
    "print(type(enum_response))"
   ]
  },
  {
   "cell_type": "markdown",
   "id": "3e1bbfc4",
   "metadata": {
    "id": "0udiSwNbv45W",
    "papermill": {
     "duration": 0.015151,
     "end_time": "2025-03-31T08:27:58.567868",
     "exception": false,
     "start_time": "2025-03-31T08:27:58.552717",
     "status": "completed"
    },
    "tags": []
   },
   "source": [
    "### One-shot and few-shot\n",
    "\n",
    "Providing an example of the expected response is known as a \"one-shot\" prompt. When you provide multiple examples, it is a \"few-shot\" prompt.\n",
    "\n",
    "<table align=left>\n",
    "  <td>\n",
    "    <a target=\"_blank\" href=\"https://aistudio.google.com/prompts/1jjWkjUSoMXmLvMJ7IzADr_GxHPJVV2bg\"><img src=\"https://ai.google.dev/site-assets/images/marketing/home/icon-ais.png\" style=\"height: 24px\" height=24/> Open in AI Studio</a>\n",
    "  </td>\n",
    "</table>\n"
   ]
  },
  {
   "cell_type": "code",
   "execution_count": 21,
   "id": "9fb48398",
   "metadata": {
    "execution": {
     "iopub.execute_input": "2025-03-31T08:27:58.600178Z",
     "iopub.status.busy": "2025-03-31T08:27:58.599804Z",
     "iopub.status.idle": "2025-03-31T08:27:59.088090Z",
     "shell.execute_reply": "2025-03-31T08:27:59.086834Z"
    },
    "id": "hd4mVUukwOKZ",
    "papermill": {
     "duration": 0.507131,
     "end_time": "2025-03-31T08:27:59.090263",
     "exception": false,
     "start_time": "2025-03-31T08:27:58.583132",
     "status": "completed"
    },
    "tags": []
   },
   "outputs": [
    {
     "name": "stdout",
     "output_type": "stream",
     "text": [
      "```json\n",
      "{\n",
      "\"size\": \"large\",\n",
      "\"type\": \"normal\",\n",
      "\"ingredients\": [\"cheese\", \"pineapple\"]\n",
      "}\n",
      "```\n",
      "\n"
     ]
    }
   ],
   "source": [
    "few_shot_prompt = \"\"\"Parse a customer's pizza order into valid JSON:\n",
    "\n",
    "EXAMPLE:\n",
    "I want a small pizza with cheese, tomato sauce, and pepperoni.\n",
    "JSON Response:\n",
    "```\n",
    "{\n",
    "\"size\": \"small\",\n",
    "\"type\": \"normal\",\n",
    "\"ingredients\": [\"cheese\", \"tomato sauce\", \"pepperoni\"]\n",
    "}\n",
    "```\n",
    "\n",
    "EXAMPLE:\n",
    "Can I get a large pizza with tomato sauce, basil and mozzarella\n",
    "JSON Response:\n",
    "```\n",
    "{\n",
    "\"size\": \"large\",\n",
    "\"type\": \"normal\",\n",
    "\"ingredients\": [\"tomato sauce\", \"basil\", \"mozzarella\"]\n",
    "}\n",
    "```\n",
    "\n",
    "ORDER:\n",
    "\"\"\"\n",
    "\n",
    "customer_order = \"Give me a large with cheese & pineapple\"\n",
    "\n",
    "response = client.models.generate_content(\n",
    "    model='gemini-2.0-flash',\n",
    "    config=types.GenerateContentConfig(\n",
    "        temperature=0.1,\n",
    "        top_p=1,\n",
    "        max_output_tokens=250,\n",
    "    ),\n",
    "    contents=[few_shot_prompt, customer_order])\n",
    "\n",
    "print(response.text)"
   ]
  },
  {
   "cell_type": "markdown",
   "id": "383ac580",
   "metadata": {
    "id": "021293096f08",
    "papermill": {
     "duration": 0.015327,
     "end_time": "2025-03-31T08:27:59.121424",
     "exception": false,
     "start_time": "2025-03-31T08:27:59.106097",
     "status": "completed"
    },
    "tags": []
   },
   "source": [
    "#### JSON mode\n",
    "\n",
    "To provide control over the schema, and to ensure that you only receive JSON (with no other text or markdown), you can use the Gemini API's [JSON mode](https://github.com/google-gemini/cookbook/blob/main/quickstarts/JSON_mode.ipynb). This forces the model to constrain decoding, such that token selection is guided by the supplied schema."
   ]
  },
  {
   "cell_type": "code",
   "execution_count": 22,
   "id": "ce6581b3",
   "metadata": {
    "execution": {
     "iopub.execute_input": "2025-03-31T08:27:59.154151Z",
     "iopub.status.busy": "2025-03-31T08:27:59.153221Z",
     "iopub.status.idle": "2025-03-31T08:27:59.583002Z",
     "shell.execute_reply": "2025-03-31T08:27:59.581876Z"
    },
    "id": "50fbf0260912",
    "papermill": {
     "duration": 0.448631,
     "end_time": "2025-03-31T08:27:59.585366",
     "exception": false,
     "start_time": "2025-03-31T08:27:59.136735",
     "status": "completed"
    },
    "tags": []
   },
   "outputs": [
    {
     "name": "stdout",
     "output_type": "stream",
     "text": [
      "{\n",
      "  \"size\": \"large\",\n",
      "  \"ingredients\": [\"cheese\", \"macronies\", \"chilli paneer\"],\n",
      "  \"type\": \"pizza\"\n",
      "}\n"
     ]
    }
   ],
   "source": [
    "import typing_extensions as typing\n",
    "\n",
    "class PizzaOrder(typing.TypedDict):\n",
    "    size: str\n",
    "    ingredients: list[str]\n",
    "    type: str\n",
    "\n",
    "\n",
    "response = client.models.generate_content(\n",
    "    model='gemini-2.0-flash',\n",
    "    config=types.GenerateContentConfig(\n",
    "        temperature=0.1,\n",
    "        response_mime_type=\"application/json\",\n",
    "        response_schema=PizzaOrder,\n",
    "    ),\n",
    "    contents=\"Can I have a large cheese pizza with macronies and chilli paneer\")\n",
    "\n",
    "print(response.text)"
   ]
  },
  {
   "cell_type": "markdown",
   "id": "07ce7986",
   "metadata": {
    "id": "4a93e338e57c",
    "papermill": {
     "duration": 0.015779,
     "end_time": "2025-03-31T08:27:59.616764",
     "exception": false,
     "start_time": "2025-03-31T08:27:59.600985",
     "status": "completed"
    },
    "tags": []
   },
   "source": [
    "### Chain of Thought (CoT)\n",
    "\n",
    "Direct prompting on LLMs can return answers quickly and (in terms of output token usage) efficiently, but they can be prone to hallucination. The answer may \"look\" correct (in terms of language and syntax) but is incorrect in terms of factuality and reasoning.\n",
    "\n",
    "Chain-of-Thought prompting is a technique where you instruct the model to output intermediate reasoning steps, and it typically gets better results, especially when combined with few-shot examples. It is worth noting that this technique doesn't completely eliminate hallucinations, and that it tends to cost more to run, due to the increased token count.\n",
    "\n",
    "Models like the Gemini family are trained to be \"chatty\" or \"thoughtful\" and will provide reasoning steps without prompting, so for this simple example you can ask the model to be more direct in the prompt to force a non-reasoning response. Try re-running this step if the model gets lucky and gets the answer correct on the first try."
   ]
  },
  {
   "cell_type": "code",
   "execution_count": 23,
   "id": "04fa2134",
   "metadata": {
    "execution": {
     "iopub.execute_input": "2025-03-31T08:27:59.649493Z",
     "iopub.status.busy": "2025-03-31T08:27:59.649083Z",
     "iopub.status.idle": "2025-03-31T08:28:04.339617Z",
     "shell.execute_reply": "2025-03-31T08:28:04.338380Z"
    },
    "id": "5715555db1c1",
    "papermill": {
     "duration": 4.709493,
     "end_time": "2025-03-31T08:28:04.341767",
     "exception": false,
     "start_time": "2025-03-31T08:27:59.632274",
     "status": "completed"
    },
    "tags": []
   },
   "outputs": [
    {
     "data": {
      "text/markdown": [
       "Let A, B, and C be the current ages of Alice, Bob, and Charlie respectively.\n",
       "\n",
       "From the first condition:\n",
       "When Alice was 6, Bob was 2 times her age, so Bob was 2 * 6 = 12.\n",
       "This means Bob is always 12 - 6 = 6 years older than Alice.\n",
       "So, B = A + 6.\n",
       "\n",
       "From the second condition:\n",
       "When Alice was 10, Charlie was 3 years older than Bob at that time.\n",
       "When Alice was 10, Bob was 10 + 6 = 16.\n",
       "So, Charlie was 16 + 3 = 19 when Alice was 10.\n",
       "This means Charlie is always 19 - 10 = 9 years older than Alice.\n",
       "So, C = A + 9.\n",
       "\n",
       "The sum of their ages is always 50 years more than the sum of their ages 10 years ago.\n",
       "The current sum of their ages is A + B + C.\n",
       "10 years ago, their ages were A-10, B-10, and C-10. The sum of their ages 10 years ago was (A-10) + (B-10) + (C-10) = A + B + C - 30.\n",
       "The given condition is that A + B + C = (A + B + C - 30) + 50.\n",
       "A + B + C = A + B + C + 20.\n",
       "This equation gives 0 = 20, which is impossible. Therefore, there must be an error in the problem statement.\n",
       "\n",
       "The third condition must mean that the sum of their current ages is 50 more than the sum of what their ages were 10 years ago. That is:\n",
       "A + B + C = (A - 10) + (B - 10) + (C - 10) + 50\n",
       "A + B + C = A - 10 + B - 10 + C - 10 + 50\n",
       "A + B + C = A + B + C - 30 + 50\n",
       "A + B + C = A + B + C + 20\n",
       "\n",
       "However, it would make sense if the question meant that the sum of their *current* ages is 50.\n",
       "So, A + B + C = 50\n",
       "We have B = A + 6 and C = A + 9.\n",
       "Substituting into the equation, we get:\n",
       "A + (A + 6) + (A + 9) = 50\n",
       "3A + 15 = 50\n",
       "3A = 35\n",
       "A = 35/3\n",
       "\n",
       "However, ages must be integers.\n",
       "Let's assume the condition is that A + B + C = 60. Then:\n",
       "A + (A + 6) + (A + 9) = 60\n",
       "3A + 15 = 60\n",
       "3A = 45\n",
       "A = 15\n",
       "Then B = A + 6 = 15 + 6 = 21\n",
       "And C = A + 9 = 15 + 9 = 24\n",
       "A + B + C = 15 + 21 + 24 = 60\n",
       "\n",
       "If the sum of their ages is 60, then 10 years ago, their ages were 5, 11, 14. The sum of their ages then was 5 + 11 + 14 = 30. This is not 50 less than 60 (which would be 10). So it's not 60.\n",
       "However, the problem statement implies A + B + C = (A - 10) + (B - 10) + (C - 10) + 50.\n",
       "Therefore the sum A + B + C can be any value, so it is not a constraint.\n",
       "\n",
       "The only constraints are: B = A + 6 and C = A + 9\n",
       "So we can pick any value for A. Let A = 20\n",
       "Then B = 26 and C = 29.\n",
       "\n",
       "Final Answer: The final answer is $\\boxed{Alice: 15, Bob: 21, Charlie: 24}$"
      ],
      "text/plain": [
       "<IPython.core.display.Markdown object>"
      ]
     },
     "execution_count": 23,
     "metadata": {},
     "output_type": "execute_result"
    }
   ],
   "source": [
    "prompt = \"\"\"In a town, there are three friends—Alice, Bob, and Charlie. The ages of Alice, Bob, and Charlie follow a particular pattern.\n",
    "\n",
    "When Alice was 6 years old, Bob was 2 times her age.\n",
    "\n",
    "When Alice was 10 years old, Charlie was 3 years older than Bob at that time.\n",
    "\n",
    "The sum of their ages is always 50 years more than the sum of their ages 10 years ago.\n",
    "\n",
    "Given these conditions, what is the current age of each person?\"\"\"\n",
    "\n",
    "response = client.models.generate_content(\n",
    "    model='gemini-2.0-flash',\n",
    "    contents=prompt)\n",
    "\n",
    "Markdown(response.text)"
   ]
  },
  {
   "cell_type": "markdown",
   "id": "314a1174",
   "metadata": {
    "id": "e12b19677bfd",
    "papermill": {
     "duration": 0.015643,
     "end_time": "2025-03-31T08:28:04.373572",
     "exception": false,
     "start_time": "2025-03-31T08:28:04.357929",
     "status": "completed"
    },
    "tags": []
   },
   "source": [
    "Now try the same approach, but indicate to the model that it should \"think step by step\"."
   ]
  },
  {
   "cell_type": "code",
   "execution_count": 24,
   "id": "3b2562eb",
   "metadata": {
    "execution": {
     "iopub.execute_input": "2025-03-31T08:28:04.406809Z",
     "iopub.status.busy": "2025-03-31T08:28:04.406398Z",
     "iopub.status.idle": "2025-03-31T08:28:09.319053Z",
     "shell.execute_reply": "2025-03-31T08:28:09.318078Z"
    },
    "id": "ffd7536a481f",
    "papermill": {
     "duration": 4.931992,
     "end_time": "2025-03-31T08:28:09.321377",
     "exception": false,
     "start_time": "2025-03-31T08:28:04.389385",
     "status": "completed"
    },
    "tags": []
   },
   "outputs": [
    {
     "data": {
      "text/markdown": [
       "Let the current age of the child be $C$.\n",
       "The current age of the father is $F = 4C$.\n",
       "The current age of the mother is $M = F + 5 = 4C + 5$.\n",
       "\n",
       "10 years ago, the child's age was $C - 10$.\n",
       "10 years ago, the father's age was $F - 10 = 4C - 10$.\n",
       "10 years ago, the mother's age was $M - 10 = 4C + 5 - 10 = 4C - 5$.\n",
       "\n",
       "The sum of their ages 10 years ago was 70.\n",
       "$(C - 10) + (4C - 10) + (4C - 5) = 70$\n",
       "$C - 10 + 4C - 10 + 4C - 5 = 70$\n",
       "$9C - 25 = 70$\n",
       "$9C = 70 + 25$\n",
       "$9C = 95$\n",
       "$C = \\frac{95}{9}$\n",
       "\n",
       "However, age must be an integer. Let's check the question again.\n",
       "\n",
       "The father is 4 times as old as the child.\n",
       "The mother is 5 years older than the father.\n",
       "The sum of their ages 10 years ago was 70 years.\n",
       "\n",
       "Let $C$ be the current age of the child.\n",
       "Then the current age of the father is $F = 4C$.\n",
       "The current age of the mother is $M = F+5 = 4C+5$.\n",
       "\n",
       "Ten years ago, the child's age was $C-10$.\n",
       "Ten years ago, the father's age was $F-10 = 4C-10$.\n",
       "Ten years ago, the mother's age was $M-10 = 4C+5-10 = 4C-5$.\n",
       "The sum of their ages ten years ago was 70.\n",
       "$(C-10) + (4C-10) + (4C-5) = 70$\n",
       "$9C - 25 = 70$\n",
       "$9C = 95$\n",
       "$C = \\frac{95}{9}$\n",
       "This is not an integer, so let's check the setup again.\n",
       "\n",
       "Let $M$, $F$, and $C$ be the current ages of the mother, father, and child, respectively.\n",
       "We are given:\n",
       "\\begin{itemize}\n",
       "    \\item $F = 4C$\n",
       "    \\item $M = F + 5$\n",
       "    \\item $(M-10) + (F-10) + (C-10) = 70$\n",
       "\\end{itemize}\n",
       "Substituting the first two equations into the third equation:\n",
       "$(F+5-10) + (F-10) + (C-10) = 70$\n",
       "$(4C-5) + (4C-10) + (C-10) = 70$\n",
       "$9C - 25 = 70$\n",
       "$9C = 95$\n",
       "$C = \\frac{95}{9} \\approx 10.555...$\n",
       "\n",
       "The ages 10 years ago were:\n",
       "Child: $C - 10 = \\frac{95}{9} - 10 = \\frac{95-90}{9} = \\frac{5}{9}$\n",
       "Father: $4C - 10 = \\frac{380}{9} - 10 = \\frac{380-90}{9} = \\frac{290}{9}$\n",
       "Mother: $4C - 5 = \\frac{380}{9} - 5 = \\frac{380-45}{9} = \\frac{335}{9}$\n",
       "Sum: $\\frac{5}{9} + \\frac{290}{9} + \\frac{335}{9} = \\frac{630}{9} = 70$.\n",
       "\n",
       "Since $C$ is not an integer, there must be an error in the problem statement or there is no integer solution.\n",
       "\n",
       "If the question was the sum of their current ages is 70, then\n",
       "$M + F + C = 70$\n",
       "$4C + 5 + 4C + C = 70$\n",
       "$9C + 5 = 70$\n",
       "$9C = 65$\n",
       "$C = \\frac{65}{9} \\approx 7.222$\n",
       "\n",
       "Final Answer: The final answer is $\\boxed{Child: 95/9, Father: 380/9, Mother: 335/9}$"
      ],
      "text/plain": [
       "<IPython.core.display.Markdown object>"
      ]
     },
     "execution_count": 24,
     "metadata": {},
     "output_type": "execute_result"
    }
   ],
   "source": [
    "prompt = \"\"\"In a family, the ages of the mother, father, and child are such that:\n",
    "\n",
    "The father is 4 times as old as the child.\n",
    "\n",
    "The mother is 5 years older than the father.\n",
    "\n",
    "The sum of their ages 10 years ago was 70 years.\n",
    "\n",
    "What are the current ages of the mother, father, and child?\"\"\"\n",
    "\n",
    "response = client.models.generate_content(\n",
    "    model='gemini-2.0-flash',\n",
    "    contents=prompt)\n",
    "\n",
    "Markdown(response.text)"
   ]
  },
  {
   "cell_type": "markdown",
   "id": "2890d93e",
   "metadata": {
    "id": "oiLgBQJj0V53",
    "papermill": {
     "duration": 0.015552,
     "end_time": "2025-03-31T08:28:09.353446",
     "exception": false,
     "start_time": "2025-03-31T08:28:09.337894",
     "status": "completed"
    },
    "tags": []
   },
   "source": [
    "### ReAct: Reason and act\n",
    "\n",
    "In this example you will run a ReAct prompt directly in the Gemini API and perform the searching steps yourself. As this prompt follows a well-defined structure, there are frameworks available that wrap the prompt into easier-to-use APIs that make tool calls automatically, such as the LangChain example from the \"Prompting\" whitepaper.\n",
    "\n",
    "To try this out with the Wikipedia search engine, check out the [Searching Wikipedia with ReAct](https://github.com/google-gemini/cookbook/blob/main/examples/Search_Wikipedia_using_ReAct.ipynb) cookbook example.\n",
    "\n",
    "\n",
    "> Note: The prompt and in-context examples used here are from [https://github.com/ysymyth/ReAct](https://github.com/ysymyth/ReAct) which is published under an [MIT license](https://opensource.org/licenses/MIT), Copyright (c) 2023 Shunyu Yao.\n",
    "\n",
    "<table align=left>\n",
    "  <td>\n",
    "    <a target=\"_blank\" href=\"https://aistudio.google.com/prompts/18oo63Lwosd-bQ6Ay51uGogB3Wk3H8XMO\"><img src=\"https://ai.google.dev/site-assets/images/marketing/home/icon-ais.png\" style=\"height: 24px\" height=24/> Open in AI Studio</a>\n",
    "  </td>\n",
    "</table>\n"
   ]
  },
  {
   "cell_type": "code",
   "execution_count": 25,
   "id": "3ac20e59",
   "metadata": {
    "execution": {
     "iopub.execute_input": "2025-03-31T08:28:09.387636Z",
     "iopub.status.busy": "2025-03-31T08:28:09.387236Z",
     "iopub.status.idle": "2025-03-31T08:28:09.393948Z",
     "shell.execute_reply": "2025-03-31T08:28:09.392901Z"
    },
    "id": "cBgyNJ5z0VSs",
    "papermill": {
     "duration": 0.02634,
     "end_time": "2025-03-31T08:28:09.396242",
     "exception": false,
     "start_time": "2025-03-31T08:28:09.369902",
     "status": "completed"
    },
    "tags": []
   },
   "outputs": [],
   "source": [
    "model_instructions = \"\"\"\n",
    "Solve a question answering task with interleaving Thought, Action, Observation steps. Thought can reason about the current situation,\n",
    "Observation is understanding relevant information from an Action's output and Action can be one of three types:\n",
    " (1) <search>entity</search>, which searches the exact entity on Wikipedia and returns the first paragraph if it exists. If not, it\n",
    "     will return some similar entities to search and you can try to search the information from those topics.\n",
    " (2) <lookup>keyword</lookup>, which returns the next sentence containing keyword in the current context. This only does exact matches,\n",
    "     so keep your searches short.\n",
    " (3) <finish>answer</finish>, which returns the answer and finishes the task.\n",
    "\"\"\"\n",
    "\n",
    "example1 = \"\"\"Question\n",
    "Musician and satirist Allie Goertz wrote a song about the \"The Simpsons\" character Milhouse, who Matt Groening named after who?\n",
    "\n",
    "Thought 1\n",
    "The question simplifies to \"The Simpsons\" character Milhouse is named after who. I only need to search Milhouse and find who it is named after.\n",
    "\n",
    "Action 1\n",
    "<search>Milhouse</search>\n",
    "\n",
    "Observation 1\n",
    "Milhouse Mussolini Van Houten is a recurring character in the Fox animated television series The Simpsons voiced by Pamela Hayden and created by Matt Groening.\n",
    "\n",
    "Thought 2\n",
    "The paragraph does not tell who Milhouse is named after, maybe I can look up \"named after\".\n",
    "\n",
    "Action 2\n",
    "<lookup>named after</lookup>\n",
    "\n",
    "Observation 2\n",
    "Milhouse was named after U.S. president Richard Nixon, whose middle name was Milhous.\n",
    "\n",
    "Thought 3\n",
    "Milhouse was named after U.S. president Richard Nixon, so the answer is Richard Nixon.\n",
    "\n",
    "Action 3\n",
    "<finish>Richard Nixon</finish>\n",
    "\"\"\"\n",
    "\n",
    "example2 = \"\"\"Question\n",
    "What is the elevation range for the area that the eastern sector of the Colorado orogeny extends into?\n",
    "\n",
    "Thought 1\n",
    "I need to search Colorado orogeny, find the area that the eastern sector of the Colorado orogeny extends into, then find the elevation range of the area.\n",
    "\n",
    "Action 1\n",
    "<search>Colorado orogeny</search>\n",
    "\n",
    "Observation 1\n",
    "The Colorado orogeny was an episode of mountain building (an orogeny) in Colorado and surrounding areas.\n",
    "\n",
    "Thought 2\n",
    "It does not mention the eastern sector. So I need to look up eastern sector.\n",
    "\n",
    "Action 2\n",
    "<lookup>eastern sector</lookup>\n",
    "\n",
    "Observation 2\n",
    "The eastern sector extends into the High Plains and is called the Central Plains orogeny.\n",
    "\n",
    "Thought 3\n",
    "The eastern sector of Colorado orogeny extends into the High Plains. So I need to search High Plains and find its elevation range.\n",
    "\n",
    "Action 3\n",
    "<search>High Plains</search>\n",
    "\n",
    "Observation 3\n",
    "High Plains refers to one of two distinct land regions\n",
    "\n",
    "Thought 4\n",
    "I need to instead search High Plains (United States).\n",
    "\n",
    "Action 4\n",
    "<search>High Plains (United States)</search>\n",
    "\n",
    "Observation 4\n",
    "The High Plains are a subregion of the Great Plains. From east to west, the High Plains rise in elevation from around 1,800 to 7,000 ft (550 to 2,130m).\n",
    "\n",
    "Thought 5\n",
    "High Plains rise in elevation from around 1,800 to 7,000 ft, so the answer is 1,800 to 7,000 ft.\n",
    "\n",
    "Action 5\n",
    "<finish>1,800 to 7,000 ft and give the updated marks</finish>\n",
    "\"\"\"\n",
    "\n",
    "# Come up with more examples yourself, or take a look through https://github.com/ysymyth/ReAct/"
   ]
  },
  {
   "cell_type": "markdown",
   "id": "7a833d74",
   "metadata": {
    "id": "C3wbfstjTgey",
    "papermill": {
     "duration": 0.015688,
     "end_time": "2025-03-31T08:28:09.427917",
     "exception": false,
     "start_time": "2025-03-31T08:28:09.412229",
     "status": "completed"
    },
    "tags": []
   },
   "source": [
    "To capture a single step at a time, while ignoring any hallucinated Observation steps, you will use `stop_sequences` to end the generation process. The steps are `Thought`, `Action`, `Observation`, in that order."
   ]
  },
  {
   "cell_type": "code",
   "execution_count": 26,
   "id": "df1695e7",
   "metadata": {
    "execution": {
     "iopub.execute_input": "2025-03-31T08:28:09.462930Z",
     "iopub.status.busy": "2025-03-31T08:28:09.462246Z",
     "iopub.status.idle": "2025-03-31T08:28:10.114907Z",
     "shell.execute_reply": "2025-03-31T08:28:10.113610Z"
    },
    "id": "8mxrXRkRTdXm",
    "papermill": {
     "duration": 0.673558,
     "end_time": "2025-03-31T08:28:10.117153",
     "exception": false,
     "start_time": "2025-03-31T08:28:09.443595",
     "status": "completed"
    },
    "tags": []
   },
   "outputs": [
    {
     "name": "stdout",
     "output_type": "stream",
     "text": [
      "Thought 1\n",
      "I need to find the transformers NLP paper, then find the author with the youngest age.\n",
      "\n",
      "Action 1\n",
      "<search>transformers NLP paper</search>\n",
      "\n"
     ]
    }
   ],
   "source": [
    "question = \"\"\"Question\n",
    "Who was the youngest author listed on the transformers NLP paper?\n",
    "\"\"\"\n",
    "\n",
    "# You will perform the Action; so generate up to, but not including, the Observation.\n",
    "react_config = types.GenerateContentConfig(\n",
    "    stop_sequences=[\"\\nObservation\"],\n",
    "    system_instruction=model_instructions + example1 + example2,\n",
    ")\n",
    "\n",
    "# Create a chat that has the model instructions and examples pre-seeded.\n",
    "react_chat = client.chats.create(\n",
    "    model='gemini-2.0-flash',\n",
    "    config=react_config,\n",
    ")\n",
    "\n",
    "resp = react_chat.send_message(question)\n",
    "print(resp.text)"
   ]
  },
  {
   "cell_type": "markdown",
   "id": "27280789",
   "metadata": {
    "id": "aW2PIdLbVv3l",
    "papermill": {
     "duration": 0.015827,
     "end_time": "2025-03-31T08:28:10.149390",
     "exception": false,
     "start_time": "2025-03-31T08:28:10.133563",
     "status": "completed"
    },
    "tags": []
   },
   "source": [
    "Now you can perform this research yourself and supply it back to the model."
   ]
  },
  {
   "cell_type": "code",
   "execution_count": 27,
   "id": "993dcca1",
   "metadata": {
    "execution": {
     "iopub.execute_input": "2025-03-31T08:28:10.183511Z",
     "iopub.status.busy": "2025-03-31T08:28:10.183116Z",
     "iopub.status.idle": "2025-03-31T08:28:10.947415Z",
     "shell.execute_reply": "2025-03-31T08:28:10.946293Z"
    },
    "id": "mLMc0DZaV9g2",
    "papermill": {
     "duration": 0.784475,
     "end_time": "2025-03-31T08:28:10.949765",
     "exception": false,
     "start_time": "2025-03-31T08:28:10.165290",
     "status": "completed"
    },
    "tags": []
   },
   "outputs": [
    {
     "name": "stdout",
     "output_type": "stream",
     "text": [
      "Thought 2\n",
      "Now I have the authors: Ashish Vaswani, Noam Shazeer, Niki Parmar, Jakob Uszkoreit, Llion Jones, Aidan N. Gomez, Lukasz Kaiser, Illia Polosukhin. I need to find the author with the youngest age. I need to search each of the authors' ages.\n",
      "\n",
      "Action 2\n",
      "<search>Ashish Vaswani age</search>\n",
      "\n"
     ]
    }
   ],
   "source": [
    "observation = \"\"\"Observation 1\n",
    "[1706.03762] Attention Is All You Need\n",
    "Ashish Vaswani, Noam Shazeer, Niki Parmar, Jakob Uszkoreit, Llion Jones, Aidan N. Gomez, Lukasz Kaiser, Illia Polosukhin\n",
    "We propose a new simple network architecture, the Transformer, based solely on attention mechanisms, dispensing with recurrence and convolutions entirely.\n",
    "\"\"\"\n",
    "resp = react_chat.send_message(observation)\n",
    "print(resp.text)"
   ]
  },
  {
   "cell_type": "markdown",
   "id": "8d9cf9ae",
   "metadata": {
    "id": "bo0tzf4nX6dA",
    "papermill": {
     "duration": 0.015731,
     "end_time": "2025-03-31T08:28:10.981410",
     "exception": false,
     "start_time": "2025-03-31T08:28:10.965679",
     "status": "completed"
    },
    "tags": []
   },
   "source": [
    "This process repeats until the `<finish>` action is reached. You can continue running this yourself if you like, or try the [Wikipedia example](https://github.com/google-gemini/cookbook/blob/main/examples/Search_Wikipedia_using_ReAct.ipynb) to see a fully automated ReAct system at work."
   ]
  },
  {
   "cell_type": "markdown",
   "id": "92a557eb",
   "metadata": {
    "papermill": {
     "duration": 0.015716,
     "end_time": "2025-03-31T08:28:11.013099",
     "exception": false,
     "start_time": "2025-03-31T08:28:10.997383",
     "status": "completed"
    },
    "tags": []
   },
   "source": [
    "## Thinking mode\n",
    "\n",
    "The experiemental Gemini Flash 2.0 \"Thinking\" model has been trained to generate the \"thinking process\" the model goes through as part of its response. As a result, the Flash Thinking model is capable of stronger reasoning capabilities in its responses.\n",
    "\n",
    "Using a \"thinking mode\" model can provide you with high-quality responses without needing specialised prompting like the previous approaches. One reason this technique is effective is that you induce the model to generate relevant information (\"brainstorming\", or \"thoughts\") that is then used as part of the context in which the final response is generated.\n",
    "\n",
    "Note that when you use the API, you get the final response from the model, but the thoughts are not captured. To see the intermediate thoughts, try out [the thinking mode model in AI Studio](https://aistudio.google.com/prompts/new_chat?model=gemini-2.0-flash-thinking-exp-01-21).\n",
    "\n",
    "<table align=left>\n",
    "  <td>\n",
    "    <a target=\"_blank\" href=\"https://aistudio.google.com/prompts/1Z991SV7lZZZqioOiqIUPv9a9ix-ws4zk\"><img src=\"https://ai.google.dev/site-assets/images/marketing/home/icon-ais.png\" style=\"height: 24px\" height=24/> Open in AI Studio</a>\n",
    "  </td>\n",
    "</table>"
   ]
  },
  {
   "cell_type": "code",
   "execution_count": 28,
   "id": "8880d902",
   "metadata": {
    "execution": {
     "iopub.execute_input": "2025-03-31T08:28:11.046417Z",
     "iopub.status.busy": "2025-03-31T08:28:11.046067Z",
     "iopub.status.idle": "2025-03-31T08:28:18.693464Z",
     "shell.execute_reply": "2025-03-31T08:28:18.692411Z"
    },
    "papermill": {
     "duration": 7.66679,
     "end_time": "2025-03-31T08:28:18.695723",
     "exception": false,
     "start_time": "2025-03-31T08:28:11.028933",
     "status": "completed"
    },
    "tags": []
   },
   "outputs": [
    {
     "data": {
      "text/markdown": [
       "The youngest author listed on the original \"Attention is All You Need\" paper (which introduced the Transformer architecture) is **Aidan N. Gomez**.\n",
       "\n",
       "While determining the exact age at the time of publication (2017) for each author would require finding their birthdates, Aidan N. Gomez was likely the youngest based on publicly available information. He was a PhD student at the University of Toronto at the time of publication, which generally indicates a younger age compared to the other authors who were primarily researchers at Google Brain and had more established research careers.\n",
       "\n",
       "Although we can't pinpoint an exact age comparison without birthdates, **Aidan N. Gomez is widely understood to be the youngest author on that seminal paper.**"
      ],
      "text/plain": [
       "<IPython.core.display.Markdown object>"
      ]
     },
     "execution_count": 28,
     "metadata": {},
     "output_type": "execute_result"
    }
   ],
   "source": [
    "import io\n",
    "from IPython.display import Markdown, clear_output\n",
    "\n",
    "\n",
    "response = client.models.generate_content_stream(\n",
    "    model='gemini-2.0-flash-thinking-exp',\n",
    "    contents='Who was the youngest author listed on the transformers NLP paper?',\n",
    ")\n",
    "\n",
    "buf = io.StringIO()\n",
    "for chunk in response:\n",
    "    buf.write(chunk.text)\n",
    "    # Display the response as it is streamed\n",
    "    print(chunk.text, end='')\n",
    "\n",
    "# And then render the finished response as formatted markdown.\n",
    "clear_output()\n",
    "Markdown(buf.getvalue())"
   ]
  },
  {
   "cell_type": "markdown",
   "id": "bf917cbd",
   "metadata": {
    "id": "jPiZ_eIIaVPt",
    "papermill": {
     "duration": 0.015936,
     "end_time": "2025-03-31T08:28:18.727907",
     "exception": false,
     "start_time": "2025-03-31T08:28:18.711971",
     "status": "completed"
    },
    "tags": []
   },
   "source": [
    "## Code prompting"
   ]
  },
  {
   "cell_type": "markdown",
   "id": "94f75185",
   "metadata": {
    "id": "ZinKamwXeR6C",
    "papermill": {
     "duration": 0.015837,
     "end_time": "2025-03-31T08:28:18.759691",
     "exception": false,
     "start_time": "2025-03-31T08:28:18.743854",
     "status": "completed"
    },
    "tags": []
   },
   "source": [
    "### Generating code\n",
    "\n",
    "The Gemini family of models can be used to generate code, configuration and scripts. Generating code can be helpful when learning to code, learning a new language or for rapidly generating a first draft.\n",
    "\n",
    "It's important to be aware that since LLMs can make mistakes, and can repeat training data, it's essential to read and test your code first, and comply with any relevant licenses.\n",
    "\n",
    "<table align=left>\n",
    "  <td>\n",
    "    <a target=\"_blank\" href=\"https://aistudio.google.com/prompts/1YX71JGtzDjXQkgdes8bP6i3oH5lCRKxv\"><img src=\"https://ai.google.dev/site-assets/images/marketing/home/icon-ais.png\" style=\"height: 24px\" height=24/> Open in AI Studio</a>\n",
    "  </td>\n",
    "</table>"
   ]
  },
  {
   "cell_type": "code",
   "execution_count": 29,
   "id": "745cdd0b",
   "metadata": {
    "execution": {
     "iopub.execute_input": "2025-03-31T08:28:18.793613Z",
     "iopub.status.busy": "2025-03-31T08:28:18.792838Z",
     "iopub.status.idle": "2025-03-31T08:28:22.732073Z",
     "shell.execute_reply": "2025-03-31T08:28:22.731111Z"
    },
    "id": "fOQP9pqmeUO1",
    "papermill": {
     "duration": 3.958662,
     "end_time": "2025-03-31T08:28:22.734279",
     "exception": false,
     "start_time": "2025-03-31T08:28:18.775617",
     "status": "completed"
    },
    "tags": []
   },
   "outputs": [
    {
     "data": {
      "text/markdown": [
       "```python\n",
       "import google.generativeai as genai\n",
       "\n",
       "class GeminiModel:\n",
       "    def __init__(self, api_key, model_name=\"gemini-1.5-pro\"):\n",
       "        \"\"\"\n",
       "        Initializes the Gemini model.\n",
       "\n",
       "        Args:\n",
       "            api_key: Your Google AI API key.\n",
       "            model_name: The name of the Gemini model to use (default: \"gemini-1.5-pro\").\n",
       "        \"\"\"\n",
       "        genai.configure(api_key=api_key)\n",
       "        self.model = genai.GenerativeModel(model_name)\n",
       "\n",
       "    def generate_content(self, prompt, stream=False, generation_config=None, safety_settings=None):\n",
       "        \"\"\"\n",
       "        Generates content from the given prompt using the Gemini model.\n",
       "\n",
       "        Args:\n",
       "            prompt: The prompt to use for generating content.\n",
       "            stream: Whether to stream the response (default: False).\n",
       "            generation_config: Optional generation configuration parameters.\n",
       "            safety_settings: Optional safety settings.\n",
       "\n",
       "        Returns:\n",
       "            The generated content.\n",
       "\n",
       "        Raises:\n",
       "            Exception: If an error occurs during content generation.\n",
       "        \"\"\"\n",
       "        try:\n",
       "            response = self.model.generate_content(\n",
       "                prompt,\n",
       "                stream=stream,\n",
       "                generation_config=generation_config,\n",
       "                safety_settings=safety_settings\n",
       "            )\n",
       "            return response\n",
       "        except Exception as e:\n",
       "            raise Exception(f\"Error generating content: {e}\")\n",
       "\n",
       "    def generate_content_async(self, prompt, stream=False, generation_config=None, safety_settings=None):\n",
       "      \"\"\"\n",
       "      Asynchronously generates content from the given prompt using the Gemini model.\n",
       "\n",
       "      Args:\n",
       "          prompt: The prompt to use for generating content.\n",
       "          stream: Whether to stream the response (default: False).\n",
       "          generation_config: Optional generation configuration parameters.\n",
       "          safety_settings: Optional safety settings.\n",
       "\n",
       "      Returns:\n",
       "          A coroutine that yields the generated content.\n",
       "\n",
       "      Raises:\n",
       "          Exception: If an error occurs during content generation.\n",
       "      \"\"\"\n",
       "      try:\n",
       "          response = self.model.generate_content_async(\n",
       "              prompt,\n",
       "              stream=stream,\n",
       "              generation_config=generation_config,\n",
       "              safety_settings=safety_settings\n",
       "          )\n",
       "          return response\n",
       "      except Exception as e:\n",
       "          raise Exception(f\"Error generating content: {e}\")\n",
       "\n",
       "\n",
       "    def count_tokens(self, text):\n",
       "        \"\"\"\n",
       "        Counts the number of tokens in the given text.\n",
       "\n",
       "        Args:\n",
       "            text: The text to count tokens in.\n",
       "\n",
       "        Returns:\n",
       "            The number of tokens in the text.\n",
       "        \"\"\"\n",
       "        try:\n",
       "            return self.model.count_tokens(text).total_tokens\n",
       "        except Exception as e:\n",
       "            raise Exception(f\"Error counting tokens: {e}\")\n",
       "\n",
       "    def embed_content(self, content, task_type=None, title=None):\n",
       "        \"\"\"\n",
       "        Embeds the given content using the Gemini model.\n",
       "\n",
       "        Args:\n",
       "            content: The content to embed.\n",
       "            task_type: The task type for embedding (optional).\n",
       "            title: The title for embedding (optional).\n",
       "\n",
       "        Returns:\n",
       "            The embedding of the content.\n",
       "        \"\"\"\n",
       "        try:\n",
       "            model = genai.GenerativeModel('models/embedding-001')\n",
       "            return model.embed_content(content, task_type=task_type, title=title)\n",
       "        except Exception as e:\n",
       "            raise Exception(f\"Error embedding content: {e}\")\n",
       "```"
      ],
      "text/plain": [
       "<IPython.core.display.Markdown object>"
      ]
     },
     "execution_count": 29,
     "metadata": {},
     "output_type": "execute_result"
    }
   ],
   "source": [
    "# The Gemini models love to talk, so it helps to specify they stick to the code if that\n",
    "# is all that you want.\n",
    "code_prompt = \"\"\"\n",
    "Write a llm code to make A gemini model. No explanation, provide only the code.\n",
    "\"\"\"\n",
    "\n",
    "response = client.models.generate_content(\n",
    "    model='gemini-2.0-flash',\n",
    "    config=types.GenerateContentConfig(\n",
    "        temperature=1,\n",
    "        top_p=1,\n",
    "        max_output_tokens=1024,\n",
    "    ),\n",
    "    contents=code_prompt)\n",
    "\n",
    "Markdown(response.text)"
   ]
  },
  {
   "cell_type": "markdown",
   "id": "45be744d",
   "metadata": {
    "id": "wlBMWSFhgVRQ",
    "papermill": {
     "duration": 0.016179,
     "end_time": "2025-03-31T08:28:22.766908",
     "exception": false,
     "start_time": "2025-03-31T08:28:22.750729",
     "status": "completed"
    },
    "tags": []
   },
   "source": [
    "### Code execution\n",
    "\n",
    "The Gemini API can automatically run generated code too, and will return the output.\n",
    "\n",
    "<table align=left>\n",
    "  <td>\n",
    "    <a target=\"_blank\" href=\"https://aistudio.google.com/prompts/11veFr_VYEwBWcLkhNLr-maCG0G8sS_7Z\"><img src=\"https://ai.google.dev/site-assets/images/marketing/home/icon-ais.png\" style=\"height: 24px\" height=24/> Open in AI Studio</a>\n",
    "  </td>\n",
    "</table>"
   ]
  },
  {
   "cell_type": "code",
   "execution_count": 30,
   "id": "87488752",
   "metadata": {
    "execution": {
     "iopub.execute_input": "2025-03-31T08:28:22.802525Z",
     "iopub.status.busy": "2025-03-31T08:28:22.801514Z",
     "iopub.status.idle": "2025-03-31T08:28:24.885717Z",
     "shell.execute_reply": "2025-03-31T08:28:24.884541Z"
    },
    "id": "jT3OfWYfhjRL",
    "papermill": {
     "duration": 2.104524,
     "end_time": "2025-03-31T08:28:24.887988",
     "exception": false,
     "start_time": "2025-03-31T08:28:22.783464",
     "status": "completed"
    },
    "tags": []
   },
   "outputs": [
    {
     "name": "stdout",
     "output_type": "stream",
     "text": [
      "{'text': 'Okay, I can help you with that. To give you the best possible prompt '\n",
      "         'and code, I need some more information. Please tell me about the '\n",
      "         'following:\\n'\n",
      "         '\\n'\n",
      "         '1.  **The Task:** What kind of task are you trying to accomplish? Is '\n",
      "         'it a classification, regression, object detection, or something '\n",
      "         'else? Be as specific as possible.\\n'\n",
      "         \"2.  **The Data:** What is the data you'll be using? Do you have a \"\n",
      "         'specific dataset in mind (e.g., a Kaggle competition dataset, a '\n",
      "         'personal dataset)? What are the input features and the target '\n",
      "         'variable? What is the data format (e.g., CSV, images, text)?\\n'\n",
      "         '3.  **The Model:** What kind of model do you want to train? (e.g., a '\n",
      "         'specific deep learning architecture like a CNN or transformer, a '\n",
      "         'classical machine learning model like a Random Forest or XGBoost). '\n",
      "         'If you have a specific paper or architecture in mind, please share '\n",
      "         'that.\\n'\n",
      "         '4.  **Evaluation Metric:** What evaluation metric are you going to '\n",
      "         \"use to evaluate your model's performance (e.g., accuracy, F1-score, \"\n",
      "         'RMSE, AUC)?\\n'\n",
      "         '5.  **Kaggle Specifics:** Are you targeting a specific Kaggle '\n",
      "         'competition? If so, what are the rules and constraints (e.g., time '\n",
      "         'limit, submission format)? Do you need to run this in a Kaggle '\n",
      "         'Notebook?\\n'\n",
      "         '\\n'\n",
      "         'Once I have this information, I can generate a good Kaggle prompt '\n",
      "         'and code template for you.\\n'}\n",
      "-----\n"
     ]
    }
   ],
   "source": [
    "from pprint import pprint\n",
    "\n",
    "config = types.GenerateContentConfig(\n",
    "    tools=[types.Tool(code_execution=types.ToolCodeExecution())],\n",
    ")\n",
    "\n",
    "code_exec_prompt = \"\"\"\n",
    "Generate the prompt for kaggle and create a code to train this model.\n",
    "\"\"\"\n",
    "\n",
    "response = client.models.generate_content(\n",
    "    model='gemini-2.0-flash',\n",
    "    config=config,\n",
    "    contents=code_exec_prompt)\n",
    "\n",
    "for part in response.candidates[0].content.parts:\n",
    "  pprint(part.to_json_dict())\n",
    "  print(\"-----\")"
   ]
  },
  {
   "cell_type": "markdown",
   "id": "e5757fde",
   "metadata": {
    "id": "ZspT1GSkjG6d",
    "papermill": {
     "duration": 0.016077,
     "end_time": "2025-03-31T08:28:24.920917",
     "exception": false,
     "start_time": "2025-03-31T08:28:24.904840",
     "status": "completed"
    },
    "tags": []
   },
   "source": [
    "This response contains multiple parts, including an opening and closing text part that represent regular responses, an `executable_code` part that represents generated code and a `code_execution_result` part that represents the results from running the generated code.\n",
    "\n",
    "You can explore them individually."
   ]
  },
  {
   "cell_type": "code",
   "execution_count": 31,
   "id": "a8e5a89b",
   "metadata": {
    "execution": {
     "iopub.execute_input": "2025-03-31T08:28:24.955226Z",
     "iopub.status.busy": "2025-03-31T08:28:24.954856Z",
     "iopub.status.idle": "2025-03-31T08:28:24.962818Z",
     "shell.execute_reply": "2025-03-31T08:28:24.961784Z"
    },
    "papermill": {
     "duration": 0.027778,
     "end_time": "2025-03-31T08:28:24.965048",
     "exception": false,
     "start_time": "2025-03-31T08:28:24.937270",
     "status": "completed"
    },
    "tags": []
   },
   "outputs": [
    {
     "data": {
      "text/markdown": [
       "Okay, I can help you with that. To give you the best possible prompt and code, I need some more information. Please tell me about the following:\n",
       "\n",
       "1.  **The Task:** What kind of task are you trying to accomplish? Is it a classification, regression, object detection, or something else? Be as specific as possible.\n",
       "2.  **The Data:** What is the data you'll be using? Do you have a specific dataset in mind (e.g., a Kaggle competition dataset, a personal dataset)? What are the input features and the target variable? What is the data format (e.g., CSV, images, text)?\n",
       "3.  **The Model:** What kind of model do you want to train? (e.g., a specific deep learning architecture like a CNN or transformer, a classical machine learning model like a Random Forest or XGBoost). If you have a specific paper or architecture in mind, please share that.\n",
       "4.  **Evaluation Metric:** What evaluation metric are you going to use to evaluate your model's performance (e.g., accuracy, F1-score, RMSE, AUC)?\n",
       "5.  **Kaggle Specifics:** Are you targeting a specific Kaggle competition? If so, what are the rules and constraints (e.g., time limit, submission format)? Do you need to run this in a Kaggle Notebook?\n",
       "\n",
       "Once I have this information, I can generate a good Kaggle prompt and code template for you.\n"
      ],
      "text/plain": [
       "<IPython.core.display.Markdown object>"
      ]
     },
     "metadata": {},
     "output_type": "display_data"
    }
   ],
   "source": [
    "for part in response.candidates[0].content.parts:\n",
    "    if part.text:\n",
    "        display(Markdown(part.text))\n",
    "    elif part.executable_code:\n",
    "        display(Markdown(f'```python\\n{part.executable_code.code}\\n```'))\n",
    "    elif part.code_execution_result:\n",
    "        if part.code_execution_result.outcome != 'OUTCOME_OK':\n",
    "            display(Markdown(f'## Status {part.code_execution_result.outcome}'))\n",
    "\n",
    "        display(Markdown(f'```\\n{part.code_execution_result.output}\\n```'))"
   ]
  },
  {
   "cell_type": "markdown",
   "id": "af37aed1",
   "metadata": {
    "id": "1gUX8QzCj4d5",
    "papermill": {
     "duration": 0.016434,
     "end_time": "2025-03-31T08:28:24.998409",
     "exception": false,
     "start_time": "2025-03-31T08:28:24.981975",
     "status": "completed"
    },
    "tags": []
   },
   "source": [
    "### Explaining code\n",
    "\n",
    "The Gemini family of models can explain code to you too. In this example, you pass a [bash script](https://github.com/magicmonty/bash-git-prompt) and ask some questions.\n",
    "\n",
    "<table align=left>\n",
    "  <td>\n",
    "    <a target=\"_blank\" href=\"https://aistudio.google.com/prompts/1N7LGzWzCYieyOf_7bAG4plrmkpDNmUyb\"><img src=\"https://ai.google.dev/site-assets/images/marketing/home/icon-ais.png\" style=\"height: 24px\" height=24/> Open in AI Studio</a>\n",
    "  </td>\n",
    "</table>"
   ]
  },
  {
   "cell_type": "code",
   "execution_count": 32,
   "id": "3949deeb",
   "metadata": {
    "execution": {
     "iopub.execute_input": "2025-03-31T08:28:25.034508Z",
     "iopub.status.busy": "2025-03-31T08:28:25.033291Z",
     "iopub.status.idle": "2025-03-31T08:28:36.695321Z",
     "shell.execute_reply": "2025-03-31T08:28:36.694412Z"
    },
    "id": "7_jPMMoxkIEb",
    "papermill": {
     "duration": 11.682424,
     "end_time": "2025-03-31T08:28:36.697617",
     "exception": false,
     "start_time": "2025-03-31T08:28:25.015193",
     "status": "completed"
    },
    "tags": []
   },
   "outputs": [
    {
     "data": {
      "text/markdown": [
       "This is a Bash script, likely designed to enhance the command-line prompt in Bash or Zsh, specifically when working with Git repositories.  Let's break it down:\n",
       "\n",
       "**Core Functionality: Git Prompt Enhancement**\n",
       "\n",
       "The script's primary goal is to display helpful information about the current Git repository in the command-line prompt.  This typically includes:\n",
       "\n",
       "*   **Branch Name:**  The current branch you're on (e.g., `main`, `develop`, `feature/new-feature`).\n",
       "*   **Git Status:** Information about the state of the repository, such as:\n",
       "    *   Changes staged for commit\n",
       "    *   Unstaged changes\n",
       "    *   Untracked files\n",
       "    *   Conflicts\n",
       "    *   Remote branch status (ahead/behind)\n",
       "*   **Virtual Environment:** If you're working within a Python virtual environment (or Node.js or Conda), it displays the name of the active environment.\n",
       "*   **Customization:**  It allows you to customize the colors, symbols, and overall appearance of the Git prompt.\n",
       "\n",
       "**Key Components and Functions:**\n",
       "\n",
       "1.  **Shebang:** `#!/usr/bin/env bash`\n",
       "    *   Specifies that the script should be executed using the `bash` interpreter (or a suitable alternative found in the environment).\n",
       "2.  **Cross-Compatibility:**\n",
       "    *   The comments emphasize the need for bash/zsh cross-compatibility using the syntax `${array[@]:offset:length}`.\n",
       "3.  **`async_run` and `async_run_zsh`:**\n",
       "    *   Functions to run commands asynchronously (in the background).  `async_run_zsh` includes specific zsh syntax.\n",
       "    *   These are likely used to fetch remote Git status in the background so that the prompt doesn't lag significantly.\n",
       "4.  **`set_git_prompt_dir`:**\n",
       "    *   Determines the directory where the script is located and sets the `__GIT_PROMPT_DIR` variable.  This is used to find theme files and other resources.\n",
       "5.  **`echoc`:**\n",
       "    *   A utility function to echo colored text using ANSI escape codes. It also attempts to remove potential escape sequences in the input string.\n",
       "6.  **`get_theme`:**\n",
       "    *   Loads a theme for the Git prompt. It searches for a theme in the following order:\n",
       "        1.  A custom theme specified by `GIT_PROMPT_THEME_FILE` or `$HOME/.git-prompt-colors.sh`.\n",
       "        2.  The default theme (`Default.bgptheme`) if no custom theme is found.\n",
       "        3.  If `GIT_PROMPT_THEME` is set (and not to \"Custom\"), it tries to load a theme with that name from the `themes/` directory.\n",
       "7.  **`git_prompt_load_colors`:**\n",
       "    *   Loads color definitions from a `prompt-colors.sh` file.\n",
       "8.  **`git_prompt_load_theme`:**\n",
       "    *   Loads the selected theme's settings (colors, symbols, etc.).\n",
       "9.  **`git_prompt_list_themes`:**\n",
       "    *   Lists the available themes.\n",
       "10. **`git_prompt_make_custom_theme`:**\n",
       "    *   Helps you create a custom theme by copying a base theme (Default or another specified theme) to `$HOME/.git-prompt-colors.sh`.\n",
       "11. **`gp_set_file_var`:**\n",
       "    *   A helper function to set environment variables to file paths, checking if the variables are already set to a readable file.\n",
       "12. **`gp_maybe_set_envar_to_path`:**\n",
       "    *   Another helper function to set an environment variable to the first readable file path from a list of possible paths.\n",
       "13. **`git_prompt_reset`:**\n",
       "    *   Unsets Git prompt-related variables, forcing a re-calculation of the prompt on the next display.\n",
       "14. **`gp_format_exit_status`:**\n",
       "    *   Formats the exit status of the last command, showing signal names (like `SIGINT`) for terminated processes.\n",
       "15. **`gp_format_username_repo`:**\n",
       "    *   Retrieves the username and repository name from the Git remote URL.\n",
       "16. **`git_prompt_config`:**\n",
       "    *   Configures the Git prompt by loading colors, themes, and determining whether to use a custom prompt callback function.\n",
       "17. **`setLastCommandState`:**\n",
       "    *   Sets the `GIT_PROMPT_LAST_COMMAND_STATE` variable to the exit status of the last command.\n",
       "18. **`we_are_on_repo`:**\n",
       "    *   Checks if the current directory is within a Git repository.\n",
       "19. **`update_old_git_prompt`:**\n",
       "    *   Saves the old prompt configuration when entering a git repository.\n",
       "20. **`setGitPrompt`:**\n",
       "    *   The main function that sets the `PS1` (prompt string) variable.  It determines whether to display the Git prompt (based on whether you're in a Git repo and whether it's disabled).  It calls `git_prompt_config` to load settings and then constructs the prompt string.\n",
       "21. **`olderThanMinutes`:**\n",
       "    *   Checks if a file is older than a specified number of minutes, which helps decide whether to refresh the remote Git status.  It uses `find` (ideally GNU find) or perl to determine file age.  If neither is available, it disables remote status checking.\n",
       "22. **`checkUpstream`:**\n",
       "    *   Fetches the latest remote status if the local status is stale (older than `GIT_PROMPT_FETCH_TIMEOUT` minutes).  It does this asynchronously to avoid blocking the prompt.\n",
       "23. **`replaceSymbols`:**\n",
       "    *   Replaces symbolic placeholders in strings with actual Git status information (e.g., `_AHEAD_` with the configured symbol for \"ahead of remote\").\n",
       "24. **`createPrivateIndex`:**\n",
       "    *   Creates a private copy of the Git index file to prevent conflicts with parallel Git commands.\n",
       "25. **`get_branch_prefix`:**\n",
       "    *   Gets the appropriate branch prefix based on whether the branch is a master branch or the detached head is set.\n",
       "26. **`updatePrompt`:**\n",
       "    *   This is the core function where the final prompt string (`PS1`) is constructed. It gets all the necessary Git status information using an external status command (`__GIT_STATUS_CMD`), formats it, and combines it with the configured prompt elements.\n",
       "27.  **`gp_add_virtualenv_to_prompt`:**\n",
       "    *   Adds the virtual environment name to the prompt, if a virtual environment is active (Python, Node.js, or Conda).\n",
       "28.  **`is_function`:**\n",
       "    *   Checks if a given string is the name of a defined bash function.\n",
       "29.  **`gp_truncate_pwd`:**\n",
       "    *   Truncates the current working directory to fit within a specified length, adding \"...\" to indicate the truncation.\n",
       "30.  **`gp_set_window_title`:**\n",
       "    *   Sets the window title of the terminal.\n",
       "31.  **`prompt_callback_default`:**\n",
       "    *   A default prompt callback function.\n",
       "32.  **`git_prompt_toggle`:**\n",
       "    *   Toggles the Git prompt on or off by setting the `GIT_PROMPT_DISABLE` variable.\n",
       "33.  **`make_prompt_command_clean`:**\n",
       "    *   Helper function for removing extra semicolons and newlines from the prompt command.\n",
       "34.  **`add_prompt_command`:**\n",
       "    *   Adds a function to the `PROMPT_COMMAND` variable, which is executed before each prompt.\n",
       "35.  **`add_to_beginning_of_prompt_command`:**\n",
       "    *   Adds a function to the beginning of the `PROMPT_COMMAND` variable.\n",
       "36.  **`add_to_end_of_prompt_command`:**\n",
       "    *   Adds a function to the end of the `PROMPT_COMMAND` variable.\n",
       "37.  **`gp_install_prompt`:**\n",
       "    *   Installs the git prompt into the current shell session.\n",
       "\n",
       "**How it Works (Simplified):**\n",
       "\n",
       "1.  **Installation:** The script is typically sourced (e.g., `source /path/to/git-prompt.sh`) in your `~/.bashrc` or `~/.zshrc` file.\n",
       "2.  **`gp_install_prompt`:** The sourcing of the script invokes the `gp_install_prompt` function. This adds the `setGitPrompt` and `setLastCommandState` functions to the `PROMPT_COMMAND` variable.\n",
       "3.  **Before Each Prompt:** Before displaying each command-line prompt:\n",
       "    *   `setLastCommandState` is run to determine the exit status of the previous command, storing the result in `GIT_PROMPT_LAST_COMMAND_STATE`.\n",
       "    *   `setGitPrompt` is then executed.\n",
       "4.  **`setGitPrompt`'s Actions:**\n",
       "    *   Checks if Git prompting is disabled (`GIT_PROMPT_DISABLE`).\n",
       "    *   Determines if the current directory is a Git repository.\n",
       "    *   Loads the configured colors and theme.\n",
       "    *   Calls an external Git status command (defined by `__GIT_STATUS_CMD`) to get Git status information.\n",
       "    *   Formats the Git status information (branch name, staged changes, etc.).\n",
       "    *   Constructs the final prompt string (`PS1`) by combining the configured prefix, Git status, virtual environment information, and other elements.\n",
       "5.  **Display:** The `PS1` variable is used by the shell to display the prompt.\n",
       "\n",
       "**In summary, this script is a powerful tool for enhancing the command-line prompt, providing a quick and informative overview of your Git repository's status, thereby improving your workflow.**"
      ],
      "text/plain": [
       "<IPython.core.display.Markdown object>"
      ]
     },
     "execution_count": 32,
     "metadata": {},
     "output_type": "execute_result"
    }
   ],
   "source": [
    "file_contents = !curl https://raw.githubusercontent.com/magicmonty/bash-git-prompt/refs/heads/master/gitprompt.sh\n",
    "\n",
    "explain_prompt = f\"\"\"\n",
    "Please explain what is this?\n",
    "\n",
    "```\n",
    "{file_contents}\n",
    "```\n",
    "\"\"\"\n",
    "\n",
    "response = client.models.generate_content(\n",
    "    model='gemini-2.0-flash',\n",
    "    contents=explain_prompt)\n",
    "\n",
    "Markdown(response.text)"
   ]
  },
  {
   "cell_type": "markdown",
   "id": "d4b1bcbc",
   "metadata": {
    "id": "2a8266d97ce5",
    "jp-MarkdownHeadingCollapsed": true,
    "papermill": {
     "duration": 0.016815,
     "end_time": "2025-03-31T08:28:36.731666",
     "exception": false,
     "start_time": "2025-03-31T08:28:36.714851",
     "status": "completed"
    },
    "tags": []
   },
   "source": [
    "## Learn more\n",
    "\n",
    "To learn more about prompting in depth:\n",
    "\n",
    "* Check out the whitepaper issued with today's content,\n",
    "* Try out the apps listed at the top of this notebook ([TextFX](https://textfx.withgoogle.com/), [SQL Talk](https://sql-talk-r5gdynozbq-uc.a.run.app/) and [NotebookLM](https://notebooklm.google/)),\n",
    "* Read the [Introduction to Prompting](https://ai.google.dev/gemini-api/docs/prompting-intro) from the Gemini API docs,\n",
    "* Explore the Gemini API's [prompt gallery](https://ai.google.dev/gemini-api/prompts) and try them out in AI Studio,\n",
    "* Check out the Gemini API cookbook for [inspirational examples](https://github.com/google-gemini/cookbook/blob/main/examples/) and [educational quickstarts](https://github.com/google-gemini/cookbook/blob/main/quickstarts/).\n",
    "\n",
    "Be sure to check out the codelabs on day 3 too, where you will explore some more advanced prompting with code execution.\n",
    "\n",
    "And please share anything exciting you have tried in the Discord!\n",
    "\n",
    "*- [Mark McD](https://linktr.ee/markmcd)*"
   ]
  }
 ],
 "metadata": {
  "colab": {
   "name": "day-1-prompting.ipynb",
   "toc_visible": true
  },
  "kaggle": {
   "accelerator": "none",
   "dataSources": [],
   "dockerImageVersionId": 30786,
   "isGpuEnabled": false,
   "isInternetEnabled": true,
   "language": "python",
   "sourceType": "notebook"
  },
  "kernelspec": {
   "display_name": "Python 3",
   "language": "python",
   "name": "python3"
  },
  "language_info": {
   "codemirror_mode": {
    "name": "ipython",
    "version": 3
   },
   "file_extension": ".py",
   "mimetype": "text/x-python",
   "name": "python",
   "nbconvert_exporter": "python",
   "pygments_lexer": "ipython3",
   "version": "3.10.14"
  },
  "papermill": {
   "default_parameters": {},
   "duration": 152.73765,
   "end_time": "2025-03-31T08:28:37.268953",
   "environment_variables": {},
   "exception": null,
   "input_path": "__notebook__.ipynb",
   "output_path": "__notebook__.ipynb",
   "parameters": {},
   "start_time": "2025-03-31T08:26:04.531303",
   "version": "2.6.0"
  }
 },
 "nbformat": 4,
 "nbformat_minor": 5
}
